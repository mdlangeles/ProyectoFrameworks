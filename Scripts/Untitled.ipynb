{
 "cells": [
  {
   "cell_type": "code",
   "execution_count": 1,
   "id": "a8a86fe1",
   "metadata": {},
   "outputs": [],
   "source": [
    "import dlt\n",
    "from dlt.destinations.filesystem import filesystem\n",
    "import pyarrow.parquet as pq\n",
    "import requests\n",
    "import pandas as pd\n",
    "import os\n",
    "from minio import Minio\n",
    "from io import BytesIO"
   ]
  },
  {
   "cell_type": "code",
   "execution_count": null,
   "id": "acb94650-aaee-4b44-ad3c-ec5954085493",
   "metadata": {},
   "outputs": [
    {
     "name": "stdout",
     "output_type": "stream",
     "text": [
      "Fetching data from URL: https://d37ci6vzurychx.cloudfront.net/trip-data/yellow_tripdata_2025-01.parquet\n",
      "Setting up DLT pipeline...\n",
      "Running DLT pipeline...\n"
     ]
    }
   ],
   "source": [
    "# Configuración de la URL\n",
    "URL = \"https://d37ci6vzurychx.cloudfront.net/trip-data/yellow_tripdata_2025-01.parquet\"\n",
    "\n",
    "@dlt.resource(name=\"yellow_trip_data\", write_disposition=\"replace\")\n",
    "def yellow_trip_data():\n",
    "    \"\"\"Resource para leer datos Parquet desde URL\"\"\"\n",
    "    try:\n",
    "        print(\"Descargando datos desde la URL...\")\n",
    "        df = pd.read_parquet(URL)\n",
    "        print(f\"Datos descargados. Shape: {df.shape}\")\n",
    "        \n",
    "        # Yield cada fila como dict\n",
    "        for row in df.to_dict(orient=\"records\"):\n",
    "            yield row\n",
    "            \n",
    "    except Exception as e:\n",
    "        print(f\"Error al descargar datos: {e}\")\n",
    "        raise\n",
    "\n",
    "def main():\n",
    "    try:\n",
    "        # Configuración de MinIO\n",
    "        minio_endpoint = os.getenv('MINIO_ENDPOINT', 'minio:9000')  # Cambiado a 'minio' para Docker\n",
    "        bucket_name = os.getenv('BUCKET_NAME', 'warehouse')         # Usando el bucket existente\n",
    "        access_key = os.getenv('MINIO_ACCESS_KEY', 'admin')\n",
    "        secret_key = os.getenv('MINIO_SECRET_KEY', 'password')\n",
    "        \n",
    "        # Construir la URL de MinIO (S3 compatible)\n",
    "        minio_url = f\"s3://{bucket_name}?endpoint=http://{minio_endpoint}&access_key={access_key}&secret_key={secret_key}&region=us-east-1\"\n",
    "        print(f\"MinIO URL: {minio_url}\")\n",
    "        \n",
    "        # Configurar pipeline\n",
    "        pipeline = dlt.pipeline(\n",
    "            pipeline_name=\"yellow_trip_data_pipeline\",\n",
    "            destination=\"filesystem\",\n",
    "            dataset_name=\"yellow_trip\",\n",
    "            full_refresh=True,\n",
    "        )\n",
    "        \n",
    "        # Ejecutar el pipeline\n",
    "        print(\"Iniciando ingesta de datos...\")\n",
    "        load_info = pipeline.run(\n",
    "            yellow_trip_data(),\n",
    "            loader_file_format=\"parquet\",\n",
    "            destination=dlt.destinations.filesystem(bucket_url=minio_url)\n",
    "        )\n",
    "        \n",
    "        print(\"Pipeline ejecutado exitosamente!\")\n",
    "        print(f\"Load info: {load_info}\")\n",
    "        \n",
    "    except Exception as e:\n",
    "        print(f\"Error en el pipeline: {e}\")\n",
    "        raise\n",
    "\n",
    "if __name__ == \"__main__\":\n",
    "    main()"
   ]
  },
  {
   "cell_type": "code",
   "execution_count": null,
   "id": "70ff7b9c-da40-4c44-98d4-f3a19e921522",
   "metadata": {},
   "outputs": [],
   "source": []
  }
 ],
 "metadata": {
  "kernelspec": {
   "display_name": "Python 3 (ipykernel)",
   "language": "python",
   "name": "python3"
  },
  "language_info": {
   "codemirror_mode": {
    "name": "ipython",
    "version": 3
   },
   "file_extension": ".py",
   "mimetype": "text/x-python",
   "name": "python",
   "nbconvert_exporter": "python",
   "pygments_lexer": "ipython3",
   "version": "3.11.6"
  }
 },
 "nbformat": 4,
 "nbformat_minor": 5
}
