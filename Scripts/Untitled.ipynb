{
 "cells": [
  {
   "cell_type": "code",
   "execution_count": 1,
   "id": "a8a86fe1",
   "metadata": {},
   "outputs": [],
   "source": [
    "import dlt\n",
    "from dlt.destinations.filesystem import filesystem\n",
    "import pyarrow.parquet as pq\n",
    "import requests\n",
    "import pandas as pd\n",
    "import os\n",
    "from minio import Minio\n",
    "from io import BytesIO"
   ]
  },
  {
   "cell_type": "code",
   "execution_count": null,
   "id": "acb94650-aaee-4b44-ad3c-ec5954085493",
   "metadata": {},
   "outputs": [
    {
     "name": "stdout",
     "output_type": "stream",
     "text": [
      "Fetching data from URL: https://d37ci6vzurychx.cloudfront.net/trip-data/yellow_tripdata_2025-01.parquet\n",
      "Setting up DLT pipeline...\n",
      "Running DLT pipeline...\n"
     ]
    }
   ],
   "source": [
    "#bucket_url = os.environ[\"BUCKET_URL\"]\n",
    "#print(\"Bucket URL:\", bucket_url)\n",
    "\n",
    "URL = \"https://d37ci6vzurychx.cloudfront.net/trip-data/yellow_tripdata_2025-01.parquet\"\n",
    "\n",
    "print(\"Fetching data from URL:\", URL)\n",
    "try:\n",
    "    @dlt.resource(name=\"yellow_trip_data\", write_disposition=\"replace\")\n",
    "    def yellow_trip_data():\n",
    "        df = pd.read_parquet(URL)\n",
    "        for row in df.to_dict(orient=\"records\"):\n",
    "            yield row\n",
    "        print(\"Data fetched successfully.\")\n",
    "except Exception as e: \n",
    "    print(e)\n",
    "\n",
    "try:\n",
    "    pipeline = dlt.pipeline(\n",
    "        pipeline_name=\"yellow_trip_data_pipeline\",\n",
    "        destination=\"filesystem\",\n",
    "        dataset_name=\"yellow_trip\",\n",
    "        full_refresh=True,\n",
    "    )\n",
    "except Exception as e:\n",
    "    print(e)\n",
    "\n",
    "try:\n",
    "load_data = pipeline.run(\n",
    "    yellow_trip_data(),\n",
    "    loader_file_format = \"parquet\",\n",
    "\n",
    ")\n",
    "except Exception as e:\n",
    "    print(e)\n",
    "    \n",
    "print(\"Pipeline run completed.\")\n"
   ]
  },
  {
   "cell_type": "code",
   "execution_count": null,
   "id": "70ff7b9c-da40-4c44-98d4-f3a19e921522",
   "metadata": {},
   "outputs": [],
   "source": []
  }
 ],
 "metadata": {
  "kernelspec": {
   "display_name": "Python 3 (ipykernel)",
   "language": "python",
   "name": "python3"
  },
  "language_info": {
   "codemirror_mode": {
    "name": "ipython",
    "version": 3
   },
   "file_extension": ".py",
   "mimetype": "text/x-python",
   "name": "python",
   "nbconvert_exporter": "python",
   "pygments_lexer": "ipython3",
   "version": "3.11.6"
  }
 },
 "nbformat": 4,
 "nbformat_minor": 5
}
