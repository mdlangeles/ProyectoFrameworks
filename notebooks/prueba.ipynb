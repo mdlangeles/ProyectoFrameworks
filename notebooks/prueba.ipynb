{
 "cells": [
  {
   "cell_type": "code",
   "execution_count": null,
   "id": "698eecb1",
   "metadata": {},
   "outputs": [],
   "source": [
    "import pyarrow.dataset as ds\n",
    "import pyarrow as pa\n",
    "import pyarrow.parquet as pq\n",
    "import pyarrow.fs as fs"
   ]
  },
  {
   "cell_type": "code",
   "execution_count": null,
   "id": "4f577f9a",
   "metadata": {},
   "outputs": [],
   "source": [
    "# Crear bucket manualmente antes (usando boto3 o minio client)\n",
    "import boto3\n",
    "s3 = boto3.client('s3', \n",
    "                 endpoint_url='http://minio:9000',\n",
    "                 aws_access_key_id='admin',\n",
    "                 aws_secret_access_key='password')\n",
    "s3.create_bucket(Bucket='mi-bucket-iceberg')"
   ]
  },
  {
   "cell_type": "code",
   "execution_count": null,
   "id": "3e77e256",
   "metadata": {},
   "outputs": [],
   "source": [
    "minio = fs.S3FileSystem(\n",
    "    access_key=\"admin\",\n",
    "    secret_key=\"password\",\n",
    "    endpoint_override=\"http://minio:9000\",\n",
    ")"
   ]
  },
  {
   "cell_type": "code",
   "execution_count": null,
   "id": "7c6614aa",
   "metadata": {},
   "outputs": [],
   "source": [
    "path = \"\""
   ]
  },
  {
   "cell_type": "code",
   "execution_count": null,
   "id": "653b5147",
   "metadata": {},
   "outputs": [],
   "source": [
    "dataset_3 = ds.dataset(path, filesystem=minio, format=\"parquet\")"
   ]
  },
  {
   "cell_type": "code",
   "execution_count": null,
   "id": "13d6ffc8",
   "metadata": {},
   "outputs": [],
   "source": [
    "table_3 = dataset_3.to_table()\n",
    "print(table_3.schema)"
   ]
  },
  {
   "cell_type": "code",
   "execution_count": null,
   "id": "e18c6709",
   "metadata": {},
   "outputs": [],
   "source": [
    "for file_info in minio.get_file_info([path, \"taxis/taxis_parquet/df_data\"]):\n",
    "    print(file_info)\n"
   ]
  },
  {
   "cell_type": "code",
   "execution_count": null,
   "id": "c8519b8b",
   "metadata": {},
   "outputs": [],
   "source": [
    "arrow_schema = table_3.schema\n",
    "print(arrow_schema)"
   ]
  },
  {
   "cell_type": "code",
   "execution_count": null,
   "id": "02430c59",
   "metadata": {},
   "outputs": [],
   "source": [
    "from pyiceberg.catalog import load_catalog\n",
    "\n",
    "catalog = load_catalog(\n",
    "    \"nessie\",\n",
    "    **{\n",
    "        \"uri\": \"http://nessie:19120/iceberg/main\",\n",
    "    }\n",
    ")\n"
   ]
  },
  {
   "cell_type": "code",
   "execution_count": null,
   "id": "8a4bdbff",
   "metadata": {},
   "outputs": [],
   "source": [
    "namespaces = catalog.list_namespaces()\n",
    "print(namespaces)\n"
   ]
  },
  {
   "cell_type": "code",
   "execution_count": null,
   "id": "713a0521",
   "metadata": {},
   "outputs": [],
   "source": [
    "catalog.create_namespace(\"taxis\")\n",
    "\n",
    "namespaces = catalog.list_namespaces()\n",
    "print(namespaces)"
   ]
  },
  {
   "cell_type": "code",
   "execution_count": null,
   "id": "d039ad69",
   "metadata": {},
   "outputs": [],
   "source": [
    "catalog.create_table(\n",
    "    \"taxis.taxis_iceberg\", \n",
    "    arrow_schema,\n",
    "    properties={\n",
    "        'warehouse': 's3://mi-bucket-iceberg/',\n",
    "        's3.endpoint': 'http://minio:9000',\n",
    "        's3.access-key-id': 'admin',\n",
    "        's3.secret-access-key': 'password'\n",
    "    }\n",
    ")"
   ]
  },
  {
   "cell_type": "code",
   "execution_count": null,
   "id": "14225a5c",
   "metadata": {},
   "outputs": [],
   "source": [
    "taxis_iceberg = catalog.load_table(\"taxis.taxis_iceberg\")\n",
    "taxis_iceberg.append(table_3)"
   ]
  }
 ],
 "metadata": {
  "language_info": {
   "name": "python"
  }
 },
 "nbformat": 4,
 "nbformat_minor": 5
}
