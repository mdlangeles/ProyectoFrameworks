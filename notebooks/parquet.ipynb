{
 "cells": [
  {
   "cell_type": "code",
   "execution_count": 1,
   "id": "0bfaad7f-3dd6-4e1f-8e84-05dfecb308c5",
   "metadata": {},
   "outputs": [
    {
     "name": "stdout",
     "output_type": "stream",
     "text": [
      "Requirement already satisfied: pyiceberg in /opt/conda/lib/python3.11/site-packages (0.9.1)\n",
      "Requirement already satisfied: cachetools<6.0.0,>=5.5.0 in /opt/conda/lib/python3.11/site-packages (from pyiceberg) (5.5.2)\n",
      "Requirement already satisfied: click<9.0.0,>=7.1.1 in /opt/conda/lib/python3.11/site-packages (from pyiceberg) (8.1.7)\n",
      "Requirement already satisfied: fsspec>=2023.1.0 in /opt/conda/lib/python3.11/site-packages (from pyiceberg) (2025.9.0)\n",
      "Requirement already satisfied: mmh3<6.0.0,>=4.0.0 in /opt/conda/lib/python3.11/site-packages (from pyiceberg) (5.2.0)\n",
      "Requirement already satisfied: pydantic!=2.4.0,!=2.4.1,<3.0,>=2.0 in /opt/conda/lib/python3.11/site-packages (from pyiceberg) (2.11.7)\n",
      "Requirement already satisfied: pyparsing<4.0.0,>=3.1.0 in /opt/conda/lib/python3.11/site-packages (from pyiceberg) (3.1.1)\n",
      "Requirement already satisfied: requests<3.0.0,>=2.20.0 in /opt/conda/lib/python3.11/site-packages (from pyiceberg) (2.31.0)\n",
      "Requirement already satisfied: rich<14.0.0,>=10.11.0 in /opt/conda/lib/python3.11/site-packages (from pyiceberg) (13.9.4)\n",
      "Requirement already satisfied: sortedcontainers==2.4.0 in /opt/conda/lib/python3.11/site-packages (from pyiceberg) (2.4.0)\n",
      "Requirement already satisfied: strictyaml<2.0.0,>=1.7.0 in /opt/conda/lib/python3.11/site-packages (from pyiceberg) (1.7.3)\n",
      "Requirement already satisfied: tenacity<10.0.0,>=8.2.3 in /opt/conda/lib/python3.11/site-packages (from pyiceberg) (9.1.2)\n",
      "Requirement already satisfied: annotated-types>=0.6.0 in /opt/conda/lib/python3.11/site-packages (from pydantic!=2.4.0,!=2.4.1,<3.0,>=2.0->pyiceberg) (0.7.0)\n",
      "Requirement already satisfied: pydantic-core==2.33.2 in /opt/conda/lib/python3.11/site-packages (from pydantic!=2.4.0,!=2.4.1,<3.0,>=2.0->pyiceberg) (2.33.2)\n",
      "Requirement already satisfied: typing-extensions>=4.12.2 in /opt/conda/lib/python3.11/site-packages (from pydantic!=2.4.0,!=2.4.1,<3.0,>=2.0->pyiceberg) (4.15.0)\n",
      "Requirement already satisfied: typing-inspection>=0.4.0 in /opt/conda/lib/python3.11/site-packages (from pydantic!=2.4.0,!=2.4.1,<3.0,>=2.0->pyiceberg) (0.4.1)\n",
      "Requirement already satisfied: charset-normalizer<4,>=2 in /opt/conda/lib/python3.11/site-packages (from requests<3.0.0,>=2.20.0->pyiceberg) (3.3.0)\n",
      "Requirement already satisfied: idna<4,>=2.5 in /opt/conda/lib/python3.11/site-packages (from requests<3.0.0,>=2.20.0->pyiceberg) (3.4)\n",
      "Requirement already satisfied: urllib3<3,>=1.21.1 in /opt/conda/lib/python3.11/site-packages (from requests<3.0.0,>=2.20.0->pyiceberg) (2.0.7)\n",
      "Requirement already satisfied: certifi>=2017.4.17 in /opt/conda/lib/python3.11/site-packages (from requests<3.0.0,>=2.20.0->pyiceberg) (2023.7.22)\n",
      "Requirement already satisfied: markdown-it-py>=2.2.0 in /opt/conda/lib/python3.11/site-packages (from rich<14.0.0,>=10.11.0->pyiceberg) (4.0.0)\n",
      "Requirement already satisfied: pygments<3.0.0,>=2.13.0 in /opt/conda/lib/python3.11/site-packages (from rich<14.0.0,>=10.11.0->pyiceberg) (2.16.1)\n",
      "Requirement already satisfied: python-dateutil>=2.6.0 in /opt/conda/lib/python3.11/site-packages (from strictyaml<2.0.0,>=1.7.0->pyiceberg) (2.8.2)\n",
      "Requirement already satisfied: mdurl~=0.1 in /opt/conda/lib/python3.11/site-packages (from markdown-it-py>=2.2.0->rich<14.0.0,>=10.11.0->pyiceberg) (0.1.2)\n",
      "Requirement already satisfied: six>=1.5 in /opt/conda/lib/python3.11/site-packages (from python-dateutil>=2.6.0->strictyaml<2.0.0,>=1.7.0->pyiceberg) (1.16.0)\n",
      "Note: you may need to restart the kernel to use updated packages.\n"
     ]
    }
   ],
   "source": [
    "pip install pyiceberg"
   ]
  },
  {
   "cell_type": "code",
   "execution_count": 2,
   "id": "a3c091dd-8210-47d5-983d-83349f42b049",
   "metadata": {},
   "outputs": [
    {
     "name": "stdout",
     "output_type": "stream",
     "text": [
      "Requirement already satisfied: pynessie in /opt/conda/lib/python3.11/site-packages (0.67.0)\n",
      "Requirement already satisfied: attrs in /opt/conda/lib/python3.11/site-packages (from pynessie) (23.1.0)\n",
      "Requirement already satisfied: botocore in /opt/conda/lib/python3.11/site-packages (from pynessie) (1.40.18)\n",
      "Requirement already satisfied: Click<9.0.0,>6.0.0 in /opt/conda/lib/python3.11/site-packages (from pynessie) (8.1.7)\n",
      "Requirement already satisfied: confuse==2.0.1 in /opt/conda/lib/python3.11/site-packages (from pynessie) (2.0.1)\n",
      "Requirement already satisfied: desert in /opt/conda/lib/python3.11/site-packages (from pynessie) (2022.9.22)\n",
      "Requirement already satisfied: marshmallow in /opt/conda/lib/python3.11/site-packages (from pynessie) (4.0.1)\n",
      "Requirement already satisfied: marshmallow-oneofschema in /opt/conda/lib/python3.11/site-packages (from pynessie) (3.2.0)\n",
      "Requirement already satisfied: python-dateutil in /opt/conda/lib/python3.11/site-packages (from pynessie) (2.8.2)\n",
      "Requirement already satisfied: requests in /opt/conda/lib/python3.11/site-packages (from pynessie) (2.31.0)\n",
      "Requirement already satisfied: requests-aws4auth in /opt/conda/lib/python3.11/site-packages (from pynessie) (1.3.1)\n",
      "Requirement already satisfied: simplejson in /opt/conda/lib/python3.11/site-packages (from pynessie) (3.20.1)\n",
      "Requirement already satisfied: pyyaml in /opt/conda/lib/python3.11/site-packages (from confuse==2.0.1->pynessie) (6.0.1)\n",
      "Requirement already satisfied: jmespath<2.0.0,>=0.7.1 in /opt/conda/lib/python3.11/site-packages (from botocore->pynessie) (1.0.1)\n",
      "Requirement already satisfied: urllib3!=2.2.0,<3,>=1.25.4 in /opt/conda/lib/python3.11/site-packages (from botocore->pynessie) (2.0.7)\n",
      "Requirement already satisfied: six>=1.5 in /opt/conda/lib/python3.11/site-packages (from python-dateutil->pynessie) (1.16.0)\n",
      "Requirement already satisfied: typing-inspect in /opt/conda/lib/python3.11/site-packages (from desert->pynessie) (0.9.0)\n",
      "Requirement already satisfied: charset-normalizer<4,>=2 in /opt/conda/lib/python3.11/site-packages (from requests->pynessie) (3.3.0)\n",
      "Requirement already satisfied: idna<4,>=2.5 in /opt/conda/lib/python3.11/site-packages (from requests->pynessie) (3.4)\n",
      "Requirement already satisfied: certifi>=2017.4.17 in /opt/conda/lib/python3.11/site-packages (from requests->pynessie) (2023.7.22)\n",
      "Requirement already satisfied: mypy-extensions>=0.3.0 in /opt/conda/lib/python3.11/site-packages (from typing-inspect->desert->pynessie) (1.1.0)\n",
      "Requirement already satisfied: typing-extensions>=3.7.4 in /opt/conda/lib/python3.11/site-packages (from typing-inspect->desert->pynessie) (4.15.0)\n",
      "Note: you may need to restart the kernel to use updated packages.\n"
     ]
    }
   ],
   "source": [
    "pip install --upgrade pynessie\n"
   ]
  },
  {
   "cell_type": "code",
   "execution_count": 3,
   "id": "6e527929-6903-4811-875d-2bb51edd1b73",
   "metadata": {},
   "outputs": [
    {
     "name": "stdout",
     "output_type": "stream",
     "text": [
      "Requirement already satisfied: typing_extensions in /opt/conda/lib/python3.11/site-packages (4.15.0)\n",
      "Note: you may need to restart the kernel to use updated packages.\n"
     ]
    }
   ],
   "source": [
    "pip install --upgrade typing_extensions"
   ]
  },
  {
   "cell_type": "code",
   "execution_count": 4,
   "id": "2a2c58d7-0cb1-44d5-8f12-94b696c3514b",
   "metadata": {},
   "outputs": [],
   "source": [
    "import pyarrow as pa\n",
    "import pyarrow.parquet as pq\n",
    "import pyarrow.fs as fs\n",
    "import pyarrow.dataset as ds\n",
    "\n",
    "from pyiceberg.catalog import load_catalog\n",
    "from pyiceberg.schema import Schema, NestedField\n",
    "from pyiceberg.types import *\n"
   ]
  },
  {
   "cell_type": "code",
   "execution_count": 5,
   "id": "3ba3edf2-080a-4a30-beb5-c3438229dadc",
   "metadata": {},
   "outputs": [],
   "source": [
    "# Definir el catálogo Nessie\n",
    "catalog = load_catalog(\n",
    "    \"nessie\",\n",
    "    **{\n",
    "        \"uri\": \"http://rest:8181\",\n",
    "    }\n",
    ")\n"
   ]
  },
  {
   "cell_type": "code",
   "execution_count": 6,
   "id": "f6e4c2f1-a090-4077-986e-6809c2a79715",
   "metadata": {},
   "outputs": [
    {
     "name": "stdout",
     "output_type": "stream",
     "text": [
      "nessie (<class 'pyiceberg.catalog.rest.RestCatalog'>)\n"
     ]
    }
   ],
   "source": [
    "print(catalog)"
   ]
  },
  {
   "cell_type": "code",
   "execution_count": 7,
   "id": "1653f96e-ebbe-415a-9cf4-f066bba33561",
   "metadata": {},
   "outputs": [
    {
     "name": "stdout",
     "output_type": "stream",
     "text": [
      "Namespaces: [('project-frameworks',)]\n"
     ]
    }
   ],
   "source": [
    "# ----------------------------\n",
    "# Verificar conexión listando los namespaces\n",
    "# ----------------------------\n",
    "namespaces = catalog.list_namespaces()\n",
    "print(\"Namespaces:\", namespaces)"
   ]
  },
  {
   "cell_type": "code",
   "execution_count": 8,
   "id": "8259a09d-5499-485c-af56-64a30539598a",
   "metadata": {},
   "outputs": [],
   "source": [
    "#catalog.create_namespace(\"project-frameworks\")"
   ]
  },
  {
   "cell_type": "code",
   "execution_count": 9,
   "id": "e6785dc2-a793-4307-8fc5-a1a2c6161748",
   "metadata": {},
   "outputs": [
    {
     "name": "stdout",
     "output_type": "stream",
     "text": [
      "Namespaces: [('project-frameworks',)]\n"
     ]
    }
   ],
   "source": [
    "# Volver a listar para confirmar\n",
    "namespaces = catalog.list_namespaces()\n",
    "print(\"Namespaces:\", namespaces)"
   ]
  },
  {
   "cell_type": "code",
   "execution_count": 10,
   "id": "d0727f8e-d9b1-4a01-9ef2-f542da89faf4",
   "metadata": {},
   "outputs": [],
   "source": [
    "from pyiceberg.catalog import load_catalog"
   ]
  },
  {
   "cell_type": "code",
   "execution_count": 11,
   "id": "466e7342-573e-44a6-a9f7-297d719943f9",
   "metadata": {},
   "outputs": [],
   "source": [
    "# ----------------------------\n",
    "# Conectar a MinIO como S3\n",
    "# ----------------------------\n",
    "s3 = fs.S3FileSystem(\n",
    "    access_key=\"admin\",\n",
    "    secret_key=\"password\",\n",
    "    endpoint_override=\"http://minio:9000\",\n",
    "    region=\"us-east-1\",\n",
    ")\n"
   ]
  },
  {
   "cell_type": "code",
   "execution_count": 12,
   "id": "d9a4645c-2c3e-4ac7-ab80-870c4ba58157",
   "metadata": {},
   "outputs": [
    {
     "name": "stdout",
     "output_type": "stream",
     "text": [
      "[<FileInfo for 'warehouse': type=FileType.Directory>]\n"
     ]
    }
   ],
   "source": [
    "print(s3.get_file_info(fs.FileSelector(\"\", recursive=False)))\n"
   ]
  },
  {
   "cell_type": "code",
   "execution_count": 13,
   "id": "50058670-b1f7-4265-a9d9-306a62707782",
   "metadata": {},
   "outputs": [
    {
     "name": "stdout",
     "output_type": "stream",
     "text": [
      "[<FileInfo for 'warehouse/project-frameworks/project/metadata/00000-dc647f4f-4c44-4d67-822b-3372c9f86769.metadata.json': type=FileType.File, size=1940>, <FileInfo for 'warehouse/project-frameworks/project/metadata': type=FileType.Directory>, <FileInfo for 'warehouse/project-frameworks/project': type=FileType.Directory>, <FileInfo for 'warehouse/project-frameworks': type=FileType.Directory>, <FileInfo for 'warehouse/yellow_trip_20250911124659/_dlt_loads/yellow_trip_data__1757551619.2035155.jsonl': type=FileType.File, size=194>, <FileInfo for 'warehouse/yellow_trip_20250911124659/_dlt_loads': type=FileType.Directory>, <FileInfo for 'warehouse/yellow_trip_20250911124659': type=FileType.Directory>, <FileInfo for 'warehouse/yellow_trip_20250911124659/_dlt_pipeline_state/yellow_trip_data_pipeline__1757551619.2035155__53daa9a8b871038afca91189eddb71d85605e281698d749323ad03ee9ff31994.jsonl': type=FileType.File, size=541>, <FileInfo for 'warehouse/yellow_trip_20250911124659/_dlt_pipeline_state': type=FileType.Directory>, <FileInfo for 'warehouse/yellow_trip_20250911124659/_dlt_version/yellow_trip_data__1757551625.1510491__53daa9a8b871038afca91189eddb71d85605e281698d749323ad03ee9ff31994.jsonl': type=FileType.File, size=5172>, <FileInfo for 'warehouse/yellow_trip_20250911124659/_dlt_version': type=FileType.Directory>, <FileInfo for 'warehouse/yellow_trip_20250911124659/init': type=FileType.File, size=41>, <FileInfo for 'warehouse/yellow_trip_20250911124659/yellow_trip_data/1757551619.2035155.541f1483eb.parquet': type=FileType.File, size=72101048>, <FileInfo for 'warehouse/yellow_trip_20250911124659/yellow_trip_data': type=FileType.Directory>]\n"
     ]
    }
   ],
   "source": [
    "print(s3.get_file_info(fs.FileSelector(\"warehouse\", recursive=True)))\n"
   ]
  },
  {
   "cell_type": "code",
   "execution_count": 14,
   "id": "605aec12-7046-43a9-bb68-4bb1425a8575",
   "metadata": {},
   "outputs": [],
   "source": [
    "path = \"warehouse/yellow_trip_20250911124659/yellow_trip_data\""
   ]
  },
  {
   "cell_type": "code",
   "execution_count": 15,
   "id": "4acc6788-3fc1-425b-9f90-1d855e45b9a7",
   "metadata": {},
   "outputs": [],
   "source": [
    "dataset = ds.dataset(path, filesystem=s3, format=\"parquet\")"
   ]
  },
  {
   "cell_type": "code",
   "execution_count": 16,
   "id": "eb999b13-628d-43bc-89e4-f07dffbe4549",
   "metadata": {},
   "outputs": [],
   "source": [
    "from pyspark.sql import SparkSession\n",
    "\n",
    "# ----------------------------\n",
    "# Inicializar Spark con Iceberg + Nessie + MinIO\n",
    "# ----------------------------\n",
    "spark = SparkSession.builder \\\n",
    "    .appName(\"Iceberg + Nessie + MinIO\") \\\n",
    "    .config(\"spark.sql.catalog.spark_catalog\", \"org.apache.iceberg.spark.SparkSessionCatalog\") \\\n",
    "    .config(\"spark.sql.catalog.spark_catalog.type\", \"hive\") \\\n",
    "    .getOrCreate()\n",
    "\n",
    "# Configuraciones para S3/MinIO\n",
    "hadoop_conf = spark._jsc.hadoopConfiguration()\n",
    "hadoop_conf.set(\"fs.s3a.access.key\", \"admin\")\n",
    "hadoop_conf.set(\"fs.s3a.secret.key\", \"password\")\n",
    "hadoop_conf.set(\"fs.s3a.endpoint\", \"http://minio:9000\")\n",
    "hadoop_conf.set(\"fs.s3a.path.style.access\", \"true\")\n",
    "hadoop_conf.set(\"fs.s3a.connection.ssl.enabled\", \"false\")\n"
   ]
  },
  {
   "cell_type": "code",
   "execution_count": 17,
   "id": "16323af3-9135-4ad2-852e-c909585f97d7",
   "metadata": {},
   "outputs": [
    {
     "name": "stdout",
     "output_type": "stream",
     "text": [
      "Schema Arrow:\n",
      "vendor_id: int32\n",
      "tpep_pickup_datetime: timestamp[us, tz=UTC]\n",
      "tpep_dropoff_datetime: timestamp[us, tz=UTC]\n",
      "passenger_count: int64\n",
      "trip_distance: double\n",
      "ratecode_id: int64\n",
      "store_and_fwd_flag: large_string\n",
      "pu_location_id: int32\n",
      "do_location_id: int32\n",
      "payment_type: int64\n",
      "fare_amount: double\n",
      "extra: double\n",
      "mta_tax: double\n",
      "tip_amount: double\n",
      "tolls_amount: double\n",
      "improvement_surcharge: double\n",
      "total_amount: double\n",
      "congestion_surcharge: double\n",
      "airport_fee: double\n",
      "cbd_congestion_fee: double\n"
     ]
    }
   ],
   "source": [
    "\n",
    "table = dataset.to_table()\n",
    "table_schema = table.schema\n",
    "\n",
    "print(\"Schema Arrow:\")\n",
    "print(table_schema)"
   ]
  },
  {
   "cell_type": "code",
   "execution_count": 18,
   "id": "0f55dd08-42b2-472d-a38e-89bfaaa164bd",
   "metadata": {},
   "outputs": [],
   "source": [
    "from pyiceberg.types import (\n",
    "    LongType, IntegerType, FloatType, DoubleType, StringType, BinaryType,\n",
    "    TimestampType, TimestamptzType\n",
    ")\n",
    "\n",
    "def arrow_to_iceberg(arrow_schema: pa.Schema) -> Schema:\n",
    "    fields = []\n",
    "    field_id = 1\n",
    "\n",
    "    for field in arrow_schema:\n",
    "        name = field.name\n",
    "        arrow_type = field.type\n",
    "\n",
    "        if pa.types.is_int64(arrow_type):\n",
    "            iceberg_type = LongType()\n",
    "        elif pa.types.is_int32(arrow_type):\n",
    "            iceberg_type = IntegerType()\n",
    "        elif pa.types.is_float32(arrow_type):\n",
    "            iceberg_type = FloatType()\n",
    "        elif pa.types.is_float64(arrow_type):\n",
    "            iceberg_type = DoubleType()\n",
    "        elif pa.types.is_string(arrow_type) or pa.types.is_large_string(arrow_type):\n",
    "            iceberg_type = StringType()\n",
    "        elif pa.types.is_binary(arrow_type) or pa.types.is_large_binary(arrow_type):\n",
    "            iceberg_type = BinaryType()\n",
    "        elif pa.types.is_timestamp(arrow_type):\n",
    "            # Diferenciar timestamp naive vs con zona horaria\n",
    "            if arrow_type.tz is None:\n",
    "                iceberg_type = TimestampType()      # naive\n",
    "            else:\n",
    "                iceberg_type = TimestamptzType()    # con tz\n",
    "        else:\n",
    "            raise ValueError(f\"Tipo no soportado: {arrow_type}\")\n",
    "\n",
    "        fields.append(NestedField(field_id, name, iceberg_type, required=not field.nullable))\n",
    "        field_id += 1\n",
    "\n",
    "    return Schema(*fields)\n"
   ]
  },
  {
   "cell_type": "code",
   "execution_count": 19,
   "id": "269caa6a-8a98-46c3-9403-bda01b834b58",
   "metadata": {},
   "outputs": [
    {
     "name": "stdout",
     "output_type": "stream",
     "text": [
      "⚠ La tabla project-frameworks.project ya existe, no se creó de nuevo.\n"
     ]
    }
   ],
   "source": [
    "# ----------------------------\n",
    "# Crear la tabla en el catálogo Nessie si no existe\n",
    "# ----------------------------\n",
    "if not catalog.table_exists(\"project-frameworks.project\"):\n",
    "    catalog.create_table(\"project-frameworks.project\", schema=post_schema)\n",
    "else:\n",
    "    print(\"⚠ La tabla project-frameworks.project ya existe, no se creó de nuevo.\")"
   ]
  },
  {
   "cell_type": "code",
   "execution_count": 20,
   "id": "92a40f1a-57c0-4b39-96a1-df97c261a6f8",
   "metadata": {},
   "outputs": [
    {
     "name": "stdout",
     "output_type": "stream",
     "text": [
      "Status code: 200\n",
      "Contenido: <!doctype html><html lang=\"en\"><head><meta charset=\"utf-8\"/><link href=\"/favicon.ico\" rel=\"icon\"/><meta content=\"width=device-width,initial-scale=1\" name=\"viewport\"/><meta content=\"#000000\" name=\"theme-color\"/><meta content=\"Nessie Repository Manager\" name=\"description\"/><link href=\"/logo192.png\" rel=\"apple-touch-icon\"/><link href=\"/manifest.json\" rel=\"manifest\"/><link crossorigin=\"anonymous\" href=\"https://maxcdn.bootstrapcdn.com/bootstrap/4.4.1/css/bootstrap.min.css\" integrity=\"sha384-Vkoo8x4CGsO3+Hhxv8T/Q5PaXtkKtu6ug5TOeNV6gBiFeWPGFN9MuhOf23Q9Ifjh\" rel=\"stylesheet\"/><link rel=\"stylesheet\" href=\"https://fonts.googleapis.com/icon?family=Material+Icons\"/><title>Nessie</title><script defer=\"defer\" src=\"/static/js/main.afc60113.js\"></script><link href=\"/static/css/main.3d9a3219.css\" rel=\"stylesheet\"></head><body><noscript>You need to enable JavaScript to run this app.</noscript><div id=\"root\"></div></body></html>\n"
     ]
    }
   ],
   "source": [
    "import requests\n",
    "\n",
    "url = \"http://nessie:19120\"  \n",
    "try:\n",
    "    response = requests.get(url)\n",
    "    print(\"Status code:\", response.status_code)\n",
    "    print(\"Contenido:\", response.text)\n",
    "except Exception as e:\n",
    "    print(\"Error:\", e)\n"
   ]
  },
  {
   "cell_type": "code",
   "execution_count": 21,
   "id": "206c6ce2-9785-4dea-9f2d-acfa13681604",
   "metadata": {},
   "outputs": [
    {
     "name": "stdout",
     "output_type": "stream",
     "text": [
      "200\n",
      "{\n",
      "  \"defaultBranch\" : \"main\",\n",
      "  \"maxSupportedApiVersion\" : 2\n",
      "}\n"
     ]
    }
   ],
   "source": [
    "import requests\n",
    "\n",
    "r = requests.get(\"http://nessie:19120/api/v1/config\")\n",
    "print(r.status_code)\n",
    "print(r.text)\n"
   ]
  },
  {
   "cell_type": "code",
   "execution_count": 23,
   "id": "9a4b52f9-ee8b-4aba-8e9b-b86ea4f7196b",
   "metadata": {},
   "outputs": [],
   "source": [
    "import pyarrow.dataset as ds\n",
    "\n",
    "dataset = ds.dataset(\"warehouse/yellow_trip_20250911124659/yellow_trip_data\", filesystem=s3)\n",
    "table = dataset.to_table()\n",
    "table_schema = table.schema\n"
   ]
  },
  {
   "cell_type": "code",
   "execution_count": 24,
   "id": "a60f91c8-b11f-4120-b84b-a4bf7174be9e",
   "metadata": {},
   "outputs": [
    {
     "name": "stdout",
     "output_type": "stream",
     "text": [
      "table {\n",
      "  1: vendor_id: optional int\n",
      "  2: tpep_pickup_datetime: optional timestamptz\n",
      "  3: tpep_dropoff_datetime: optional timestamptz\n",
      "  4: passenger_count: optional long\n",
      "  5: trip_distance: optional double\n",
      "  6: ratecode_id: optional long\n",
      "  7: store_and_fwd_flag: optional string\n",
      "  8: pu_location_id: optional int\n",
      "  9: do_location_id: optional int\n",
      "  10: payment_type: optional long\n",
      "  11: fare_amount: optional double\n",
      "  12: extra: optional double\n",
      "  13: mta_tax: optional double\n",
      "  14: tip_amount: optional double\n",
      "  15: tolls_amount: optional double\n",
      "  16: improvement_surcharge: optional double\n",
      "  17: total_amount: optional double\n",
      "  18: congestion_surcharge: optional double\n",
      "  19: airport_fee: optional double\n",
      "  20: cbd_congestion_fee: optional double\n",
      "}\n"
     ]
    }
   ],
   "source": [
    "post_schema = arrow_to_iceberg(table_schema)\n",
    "print(post_schema)\n"
   ]
  },
  {
   "cell_type": "code",
   "execution_count": 29,
   "id": "01a78174-67a2-4dea-b48f-31d3704cf9f8",
   "metadata": {},
   "outputs": [
    {
     "data": {
      "text/html": [
       "<pre style=\"white-space:pre;overflow-x:auto;line-height:normal;font-family:Menlo,'DejaVu Sans Mono',consolas,'Courier New',monospace\">┏━━━━┳━━━━━━━━━━━━━━━━━━━━━━━━━━━━━━━━━━━━━━━━━━━━━━┳━━━━━━━━━━━━━━━━━━━━━━━━━━━━━━━━━━━━━━━━━━━━━━━━┓\n",
       "┃<span style=\"font-weight: bold\">    </span>┃<span style=\"font-weight: bold\"> Table field                                  </span>┃<span style=\"font-weight: bold\"> Dataframe field                                </span>┃\n",
       "┡━━━━╇━━━━━━━━━━━━━━━━━━━━━━━━━━━━━━━━━━━━━━━━━━━━━━╇━━━━━━━━━━━━━━━━━━━━━━━━━━━━━━━━━━━━━━━━━━━━━━━━┩\n",
       "│ ✅ │ 1: vendor_id: optional int                   │ 1: vendor_id: optional int                     │\n",
       "│ ❌ │ 2: tpep_pickup_datetime: optional timestamp  │ 2: tpep_pickup_datetime: optional timestamptz  │\n",
       "│ ❌ │ 3: tpep_dropoff_datetime: optional timestamp │ 3: tpep_dropoff_datetime: optional timestamptz │\n",
       "│ ✅ │ 4: passenger_count: optional long            │ 4: passenger_count: optional long              │\n",
       "│ ✅ │ 5: trip_distance: optional double            │ 5: trip_distance: optional double              │\n",
       "│ ✅ │ 6: ratecode_id: optional long                │ 6: ratecode_id: optional long                  │\n",
       "│ ✅ │ 7: store_and_fwd_flag: optional string       │ 7: store_and_fwd_flag: optional string         │\n",
       "│ ✅ │ 8: pu_location_id: optional int              │ 8: pu_location_id: optional int                │\n",
       "│ ✅ │ 9: do_location_id: optional int              │ 9: do_location_id: optional int                │\n",
       "│ ✅ │ 10: payment_type: optional long              │ 10: payment_type: optional long                │\n",
       "│ ✅ │ 11: fare_amount: optional double             │ 11: fare_amount: optional double               │\n",
       "│ ✅ │ 12: extra: optional double                   │ 12: extra: optional double                     │\n",
       "│ ✅ │ 13: mta_tax: optional double                 │ 13: mta_tax: optional double                   │\n",
       "│ ✅ │ 14: tip_amount: optional double              │ 14: tip_amount: optional double                │\n",
       "│ ✅ │ 15: tolls_amount: optional double            │ 15: tolls_amount: optional double              │\n",
       "│ ✅ │ 16: improvement_surcharge: optional double   │ 16: improvement_surcharge: optional double     │\n",
       "│ ✅ │ 17: total_amount: optional double            │ 17: total_amount: optional double              │\n",
       "│ ✅ │ 18: congestion_surcharge: optional double    │ 18: congestion_surcharge: optional double      │\n",
       "│ ✅ │ 19: airport_fee: optional double             │ 19: airport_fee: optional double               │\n",
       "│ ✅ │ 20: cbd_congestion_fee: optional double      │ 20: cbd_congestion_fee: optional double        │\n",
       "└────┴──────────────────────────────────────────────┴────────────────────────────────────────────────┘\n",
       "</pre>\n"
      ],
      "text/plain": [
       "┏━━━━┳━━━━━━━━━━━━━━━━━━━━━━━━━━━━━━━━━━━━━━━━━━━━━━┳━━━━━━━━━━━━━━━━━━━━━━━━━━━━━━━━━━━━━━━━━━━━━━━━┓\n",
       "┃\u001b[1m \u001b[0m\u001b[1m  \u001b[0m\u001b[1m \u001b[0m┃\u001b[1m \u001b[0m\u001b[1mTable field                                 \u001b[0m\u001b[1m \u001b[0m┃\u001b[1m \u001b[0m\u001b[1mDataframe field                               \u001b[0m\u001b[1m \u001b[0m┃\n",
       "┡━━━━╇━━━━━━━━━━━━━━━━━━━━━━━━━━━━━━━━━━━━━━━━━━━━━━╇━━━━━━━━━━━━━━━━━━━━━━━━━━━━━━━━━━━━━━━━━━━━━━━━┩\n",
       "│ ✅ │ 1: vendor_id: optional int                   │ 1: vendor_id: optional int                     │\n",
       "│ ❌ │ 2: tpep_pickup_datetime: optional timestamp  │ 2: tpep_pickup_datetime: optional timestamptz  │\n",
       "│ ❌ │ 3: tpep_dropoff_datetime: optional timestamp │ 3: tpep_dropoff_datetime: optional timestamptz │\n",
       "│ ✅ │ 4: passenger_count: optional long            │ 4: passenger_count: optional long              │\n",
       "│ ✅ │ 5: trip_distance: optional double            │ 5: trip_distance: optional double              │\n",
       "│ ✅ │ 6: ratecode_id: optional long                │ 6: ratecode_id: optional long                  │\n",
       "│ ✅ │ 7: store_and_fwd_flag: optional string       │ 7: store_and_fwd_flag: optional string         │\n",
       "│ ✅ │ 8: pu_location_id: optional int              │ 8: pu_location_id: optional int                │\n",
       "│ ✅ │ 9: do_location_id: optional int              │ 9: do_location_id: optional int                │\n",
       "│ ✅ │ 10: payment_type: optional long              │ 10: payment_type: optional long                │\n",
       "│ ✅ │ 11: fare_amount: optional double             │ 11: fare_amount: optional double               │\n",
       "│ ✅ │ 12: extra: optional double                   │ 12: extra: optional double                     │\n",
       "│ ✅ │ 13: mta_tax: optional double                 │ 13: mta_tax: optional double                   │\n",
       "│ ✅ │ 14: tip_amount: optional double              │ 14: tip_amount: optional double                │\n",
       "│ ✅ │ 15: tolls_amount: optional double            │ 15: tolls_amount: optional double              │\n",
       "│ ✅ │ 16: improvement_surcharge: optional double   │ 16: improvement_surcharge: optional double     │\n",
       "│ ✅ │ 17: total_amount: optional double            │ 17: total_amount: optional double              │\n",
       "│ ✅ │ 18: congestion_surcharge: optional double    │ 18: congestion_surcharge: optional double      │\n",
       "│ ✅ │ 19: airport_fee: optional double             │ 19: airport_fee: optional double               │\n",
       "│ ✅ │ 20: cbd_congestion_fee: optional double      │ 20: cbd_congestion_fee: optional double        │\n",
       "└────┴──────────────────────────────────────────────┴────────────────────────────────────────────────┘\n"
      ]
     },
     "metadata": {},
     "output_type": "display_data"
    },
    {
     "ename": "ValueError",
     "evalue": "Mismatch in fields:\n┏━━━━┳━━━━━━━━━━━━━━━━━━━━━━━━━━━━━━━━━━━━━━━━━━━━━━┳━━━━━━━━━━━━━━━━━━━━━━━━━━━━━━━━━━━━━━━━━━━━━━━━┓\n┃    ┃ Table field                                  ┃ Dataframe field                                ┃\n┡━━━━╇━━━━━━━━━━━━━━━━━━━━━━━━━━━━━━━━━━━━━━━━━━━━━━╇━━━━━━━━━━━━━━━━━━━━━━━━━━━━━━━━━━━━━━━━━━━━━━━━┩\n│ ✅ │ 1: vendor_id: optional int                   │ 1: vendor_id: optional int                     │\n│ ❌ │ 2: tpep_pickup_datetime: optional timestamp  │ 2: tpep_pickup_datetime: optional timestamptz  │\n│ ❌ │ 3: tpep_dropoff_datetime: optional timestamp │ 3: tpep_dropoff_datetime: optional timestamptz │\n│ ✅ │ 4: passenger_count: optional long            │ 4: passenger_count: optional long              │\n│ ✅ │ 5: trip_distance: optional double            │ 5: trip_distance: optional double              │\n│ ✅ │ 6: ratecode_id: optional long                │ 6: ratecode_id: optional long                  │\n│ ✅ │ 7: store_and_fwd_flag: optional string       │ 7: store_and_fwd_flag: optional string         │\n│ ✅ │ 8: pu_location_id: optional int              │ 8: pu_location_id: optional int                │\n│ ✅ │ 9: do_location_id: optional int              │ 9: do_location_id: optional int                │\n│ ✅ │ 10: payment_type: optional long              │ 10: payment_type: optional long                │\n│ ✅ │ 11: fare_amount: optional double             │ 11: fare_amount: optional double               │\n│ ✅ │ 12: extra: optional double                   │ 12: extra: optional double                     │\n│ ✅ │ 13: mta_tax: optional double                 │ 13: mta_tax: optional double                   │\n│ ✅ │ 14: tip_amount: optional double              │ 14: tip_amount: optional double                │\n│ ✅ │ 15: tolls_amount: optional double            │ 15: tolls_amount: optional double              │\n│ ✅ │ 16: improvement_surcharge: optional double   │ 16: improvement_surcharge: optional double     │\n│ ✅ │ 17: total_amount: optional double            │ 17: total_amount: optional double              │\n│ ✅ │ 18: congestion_surcharge: optional double    │ 18: congestion_surcharge: optional double      │\n│ ✅ │ 19: airport_fee: optional double             │ 19: airport_fee: optional double               │\n│ ✅ │ 20: cbd_congestion_fee: optional double      │ 20: cbd_congestion_fee: optional double        │\n└────┴──────────────────────────────────────────────┴────────────────────────────────────────────────┘\n",
     "output_type": "error",
     "traceback": [
      "\u001b[0;31m---------------------------------------------------------------------------\u001b[0m",
      "\u001b[0;31mValueError\u001b[0m                                Traceback (most recent call last)",
      "Cell \u001b[0;32mIn[29], line 2\u001b[0m\n\u001b[1;32m      1\u001b[0m project \u001b[38;5;241m=\u001b[39m catalog\u001b[38;5;241m.\u001b[39mload_table(\u001b[38;5;124m\"\u001b[39m\u001b[38;5;124mproject-frameworks.project\u001b[39m\u001b[38;5;124m\"\u001b[39m)\n\u001b[0;32m----> 2\u001b[0m \u001b[43mproject\u001b[49m\u001b[38;5;241;43m.\u001b[39;49m\u001b[43mappend\u001b[49m\u001b[43m(\u001b[49m\u001b[43mtable\u001b[49m\u001b[43m)\u001b[49m  \u001b[38;5;66;03m# Inserta los datos\u001b[39;00m\n\u001b[1;32m      3\u001b[0m \u001b[38;5;28mprint\u001b[39m(\u001b[38;5;124m\"\u001b[39m\u001b[38;5;124m✅ Datos insertados en Iceberg\u001b[39m\u001b[38;5;124m\"\u001b[39m)\n",
      "File \u001b[0;32m/opt/conda/lib/python3.11/site-packages/pyiceberg/table/__init__.py:1229\u001b[0m, in \u001b[0;36mTable.append\u001b[0;34m(self, df, snapshot_properties)\u001b[0m\n\u001b[1;32m   1221\u001b[0m \u001b[38;5;250m\u001b[39m\u001b[38;5;124;03m\"\"\"\u001b[39;00m\n\u001b[1;32m   1222\u001b[0m \u001b[38;5;124;03mShorthand API for appending a PyArrow table to the table.\u001b[39;00m\n\u001b[1;32m   1223\u001b[0m \n\u001b[0;32m   (...)\u001b[0m\n\u001b[1;32m   1226\u001b[0m \u001b[38;5;124;03m    snapshot_properties: Custom properties to be added to the snapshot summary\u001b[39;00m\n\u001b[1;32m   1227\u001b[0m \u001b[38;5;124;03m\"\"\"\u001b[39;00m\n\u001b[1;32m   1228\u001b[0m \u001b[38;5;28;01mwith\u001b[39;00m \u001b[38;5;28mself\u001b[39m\u001b[38;5;241m.\u001b[39mtransaction() \u001b[38;5;28;01mas\u001b[39;00m tx:\n\u001b[0;32m-> 1229\u001b[0m     \u001b[43mtx\u001b[49m\u001b[38;5;241;43m.\u001b[39;49m\u001b[43mappend\u001b[49m\u001b[43m(\u001b[49m\u001b[43mdf\u001b[49m\u001b[38;5;241;43m=\u001b[39;49m\u001b[43mdf\u001b[49m\u001b[43m,\u001b[49m\u001b[43m \u001b[49m\u001b[43msnapshot_properties\u001b[49m\u001b[38;5;241;43m=\u001b[39;49m\u001b[43msnapshot_properties\u001b[49m\u001b[43m)\u001b[49m\n",
      "File \u001b[0;32m/opt/conda/lib/python3.11/site-packages/pyiceberg/table/__init__.py:466\u001b[0m, in \u001b[0;36mTransaction.append\u001b[0;34m(self, df, snapshot_properties)\u001b[0m\n\u001b[1;32m    462\u001b[0m     \u001b[38;5;28;01mraise\u001b[39;00m \u001b[38;5;167;01mValueError\u001b[39;00m(\n\u001b[1;32m    463\u001b[0m         \u001b[38;5;124mf\u001b[39m\u001b[38;5;124m\"\u001b[39m\u001b[38;5;124mNot all partition types are supported for writes. Following partitions cannot be written using pyarrow: \u001b[39m\u001b[38;5;132;01m{\u001b[39;00munsupported_partitions\u001b[38;5;132;01m}\u001b[39;00m\u001b[38;5;124m.\u001b[39m\u001b[38;5;124m\"\u001b[39m\n\u001b[1;32m    464\u001b[0m     )\n\u001b[1;32m    465\u001b[0m downcast_ns_timestamp_to_us \u001b[38;5;241m=\u001b[39m Config()\u001b[38;5;241m.\u001b[39mget_bool(DOWNCAST_NS_TIMESTAMP_TO_US_ON_WRITE) \u001b[38;5;129;01mor\u001b[39;00m \u001b[38;5;28;01mFalse\u001b[39;00m\n\u001b[0;32m--> 466\u001b[0m \u001b[43m_check_pyarrow_schema_compatible\u001b[49m\u001b[43m(\u001b[49m\n\u001b[1;32m    467\u001b[0m \u001b[43m    \u001b[49m\u001b[38;5;28;43mself\u001b[39;49m\u001b[38;5;241;43m.\u001b[39;49m\u001b[43mtable_metadata\u001b[49m\u001b[38;5;241;43m.\u001b[39;49m\u001b[43mschema\u001b[49m\u001b[43m(\u001b[49m\u001b[43m)\u001b[49m\u001b[43m,\u001b[49m\u001b[43m \u001b[49m\u001b[43mprovided_schema\u001b[49m\u001b[38;5;241;43m=\u001b[39;49m\u001b[43mdf\u001b[49m\u001b[38;5;241;43m.\u001b[39;49m\u001b[43mschema\u001b[49m\u001b[43m,\u001b[49m\u001b[43m \u001b[49m\u001b[43mdowncast_ns_timestamp_to_us\u001b[49m\u001b[38;5;241;43m=\u001b[39;49m\u001b[43mdowncast_ns_timestamp_to_us\u001b[49m\n\u001b[1;32m    468\u001b[0m \u001b[43m\u001b[49m\u001b[43m)\u001b[49m\n\u001b[1;32m    470\u001b[0m \u001b[38;5;28;01mwith\u001b[39;00m \u001b[38;5;28mself\u001b[39m\u001b[38;5;241m.\u001b[39m_append_snapshot_producer(snapshot_properties) \u001b[38;5;28;01mas\u001b[39;00m append_files:\n\u001b[1;32m    471\u001b[0m     \u001b[38;5;66;03m# skip writing data files if the dataframe is empty\u001b[39;00m\n\u001b[1;32m    472\u001b[0m     \u001b[38;5;28;01mif\u001b[39;00m df\u001b[38;5;241m.\u001b[39mshape[\u001b[38;5;241m0\u001b[39m] \u001b[38;5;241m>\u001b[39m \u001b[38;5;241m0\u001b[39m:\n",
      "File \u001b[0;32m/opt/conda/lib/python3.11/site-packages/pyiceberg/io/pyarrow.py:2482\u001b[0m, in \u001b[0;36m_check_pyarrow_schema_compatible\u001b[0;34m(requested_schema, provided_schema, downcast_ns_timestamp_to_us)\u001b[0m\n\u001b[1;32m   2478\u001b[0m     additional_names \u001b[38;5;241m=\u001b[39m \u001b[38;5;28mset\u001b[39m(provided_schema\u001b[38;5;241m.\u001b[39m_name_to_id\u001b[38;5;241m.\u001b[39mkeys()) \u001b[38;5;241m-\u001b[39m \u001b[38;5;28mset\u001b[39m(requested_schema\u001b[38;5;241m.\u001b[39m_name_to_id\u001b[38;5;241m.\u001b[39mkeys())\n\u001b[1;32m   2479\u001b[0m     \u001b[38;5;28;01mraise\u001b[39;00m \u001b[38;5;167;01mValueError\u001b[39;00m(\n\u001b[1;32m   2480\u001b[0m         \u001b[38;5;124mf\u001b[39m\u001b[38;5;124m\"\u001b[39m\u001b[38;5;124mPyArrow table contains more columns: \u001b[39m\u001b[38;5;132;01m{\u001b[39;00m\u001b[38;5;124m'\u001b[39m\u001b[38;5;124m, \u001b[39m\u001b[38;5;124m'\u001b[39m\u001b[38;5;241m.\u001b[39mjoin(\u001b[38;5;28msorted\u001b[39m(additional_names))\u001b[38;5;132;01m}\u001b[39;00m\u001b[38;5;124m. Update the schema first (hint, use union_by_name).\u001b[39m\u001b[38;5;124m\"\u001b[39m\n\u001b[1;32m   2481\u001b[0m     ) \u001b[38;5;28;01mfrom\u001b[39;00m \u001b[38;5;21;01me\u001b[39;00m\n\u001b[0;32m-> 2482\u001b[0m \u001b[43m_check_schema_compatible\u001b[49m\u001b[43m(\u001b[49m\u001b[43mrequested_schema\u001b[49m\u001b[43m,\u001b[49m\u001b[43m \u001b[49m\u001b[43mprovided_schema\u001b[49m\u001b[43m)\u001b[49m\n",
      "File \u001b[0;32m/opt/conda/lib/python3.11/site-packages/pyiceberg/schema.py:1635\u001b[0m, in \u001b[0;36m_check_schema_compatible\u001b[0;34m(requested_schema, provided_schema)\u001b[0m\n\u001b[1;32m   1621\u001b[0m \u001b[38;5;28;01mdef\u001b[39;00m \u001b[38;5;21m_check_schema_compatible\u001b[39m(requested_schema: Schema, provided_schema: Schema) \u001b[38;5;241m-\u001b[39m\u001b[38;5;241m>\u001b[39m \u001b[38;5;28;01mNone\u001b[39;00m:\n\u001b[1;32m   1622\u001b[0m \u001b[38;5;250m    \u001b[39m\u001b[38;5;124;03m\"\"\"\u001b[39;00m\n\u001b[1;32m   1623\u001b[0m \u001b[38;5;124;03m    Check if the `provided_schema` is compatible with `requested_schema`.\u001b[39;00m\n\u001b[1;32m   1624\u001b[0m \n\u001b[0;32m   (...)\u001b[0m\n\u001b[1;32m   1633\u001b[0m \u001b[38;5;124;03m        ValueError: If the schemas are not compatible.\u001b[39;00m\n\u001b[1;32m   1634\u001b[0m \u001b[38;5;124;03m    \"\"\"\u001b[39;00m\n\u001b[0;32m-> 1635\u001b[0m     \u001b[43mpre_order_visit\u001b[49m\u001b[43m(\u001b[49m\u001b[43mrequested_schema\u001b[49m\u001b[43m,\u001b[49m\u001b[43m \u001b[49m\u001b[43m_SchemaCompatibilityVisitor\u001b[49m\u001b[43m(\u001b[49m\u001b[43mprovided_schema\u001b[49m\u001b[43m)\u001b[49m\u001b[43m)\u001b[49m\n",
      "File \u001b[0;32m/opt/conda/lib/python3.11/functools.py:909\u001b[0m, in \u001b[0;36msingledispatch.<locals>.wrapper\u001b[0;34m(*args, **kw)\u001b[0m\n\u001b[1;32m    905\u001b[0m \u001b[38;5;28;01mif\u001b[39;00m \u001b[38;5;129;01mnot\u001b[39;00m args:\n\u001b[1;32m    906\u001b[0m     \u001b[38;5;28;01mraise\u001b[39;00m \u001b[38;5;167;01mTypeError\u001b[39;00m(\u001b[38;5;124mf\u001b[39m\u001b[38;5;124m'\u001b[39m\u001b[38;5;132;01m{\u001b[39;00mfuncname\u001b[38;5;132;01m}\u001b[39;00m\u001b[38;5;124m requires at least \u001b[39m\u001b[38;5;124m'\u001b[39m\n\u001b[1;32m    907\u001b[0m                     \u001b[38;5;124m'\u001b[39m\u001b[38;5;124m1 positional argument\u001b[39m\u001b[38;5;124m'\u001b[39m)\n\u001b[0;32m--> 909\u001b[0m \u001b[38;5;28;01mreturn\u001b[39;00m \u001b[43mdispatch\u001b[49m\u001b[43m(\u001b[49m\u001b[43margs\u001b[49m\u001b[43m[\u001b[49m\u001b[38;5;241;43m0\u001b[39;49m\u001b[43m]\u001b[49m\u001b[38;5;241;43m.\u001b[39;49m\u001b[38;5;18;43m__class__\u001b[39;49m\u001b[43m)\u001b[49m\u001b[43m(\u001b[49m\u001b[38;5;241;43m*\u001b[39;49m\u001b[43margs\u001b[49m\u001b[43m,\u001b[49m\u001b[43m \u001b[49m\u001b[38;5;241;43m*\u001b[39;49m\u001b[38;5;241;43m*\u001b[39;49m\u001b[43mkw\u001b[49m\u001b[43m)\u001b[49m\n",
      "File \u001b[0;32m/opt/conda/lib/python3.11/site-packages/pyiceberg/schema.py:891\u001b[0m, in \u001b[0;36m_\u001b[0;34m(obj, visitor)\u001b[0m\n\u001b[1;32m    888\u001b[0m \u001b[38;5;129m@pre_order_visit\u001b[39m\u001b[38;5;241m.\u001b[39mregister(Schema)\n\u001b[1;32m    889\u001b[0m \u001b[38;5;28;01mdef\u001b[39;00m \u001b[38;5;21m_\u001b[39m(obj: Schema, visitor: PreOrderSchemaVisitor[T]) \u001b[38;5;241m-\u001b[39m\u001b[38;5;241m>\u001b[39m T:\n\u001b[1;32m    890\u001b[0m \u001b[38;5;250m    \u001b[39m\u001b[38;5;124;03m\"\"\"Visit a Schema with a concrete PreOrderSchemaVisitor.\"\"\"\u001b[39;00m\n\u001b[0;32m--> 891\u001b[0m     \u001b[38;5;28;01mreturn\u001b[39;00m \u001b[43mvisitor\u001b[49m\u001b[38;5;241;43m.\u001b[39;49m\u001b[43mschema\u001b[49m\u001b[43m(\u001b[49m\u001b[43mobj\u001b[49m\u001b[43m,\u001b[49m\u001b[43m \u001b[49m\u001b[38;5;28;43;01mlambda\u001b[39;49;00m\u001b[43m:\u001b[49m\u001b[43m \u001b[49m\u001b[43mpre_order_visit\u001b[49m\u001b[43m(\u001b[49m\u001b[43mobj\u001b[49m\u001b[38;5;241;43m.\u001b[39;49m\u001b[43mas_struct\u001b[49m\u001b[43m(\u001b[49m\u001b[43m)\u001b[49m\u001b[43m,\u001b[49m\u001b[43m \u001b[49m\u001b[43mvisitor\u001b[49m\u001b[43m)\u001b[49m\u001b[43m)\u001b[49m\n",
      "File \u001b[0;32m/opt/conda/lib/python3.11/site-packages/pyiceberg/schema.py:1696\u001b[0m, in \u001b[0;36m_SchemaCompatibilityVisitor.schema\u001b[0;34m(self, schema, struct_result)\u001b[0m\n\u001b[1;32m   1694\u001b[0m \u001b[38;5;28;01mif\u001b[39;00m \u001b[38;5;129;01mnot\u001b[39;00m (result \u001b[38;5;241m:=\u001b[39m struct_result()):\n\u001b[1;32m   1695\u001b[0m     \u001b[38;5;28mself\u001b[39m\u001b[38;5;241m.\u001b[39mconsole\u001b[38;5;241m.\u001b[39mprint(\u001b[38;5;28mself\u001b[39m\u001b[38;5;241m.\u001b[39mrich_table)\n\u001b[0;32m-> 1696\u001b[0m     \u001b[38;5;28;01mraise\u001b[39;00m \u001b[38;5;167;01mValueError\u001b[39;00m(\u001b[38;5;124mf\u001b[39m\u001b[38;5;124m\"\u001b[39m\u001b[38;5;124mMismatch in fields:\u001b[39m\u001b[38;5;130;01m\\n\u001b[39;00m\u001b[38;5;132;01m{\u001b[39;00m\u001b[38;5;28mself\u001b[39m\u001b[38;5;241m.\u001b[39mconsole\u001b[38;5;241m.\u001b[39mexport_text()\u001b[38;5;132;01m}\u001b[39;00m\u001b[38;5;124m\"\u001b[39m)\n\u001b[1;32m   1697\u001b[0m \u001b[38;5;28;01mreturn\u001b[39;00m result\n",
      "\u001b[0;31mValueError\u001b[0m: Mismatch in fields:\n┏━━━━┳━━━━━━━━━━━━━━━━━━━━━━━━━━━━━━━━━━━━━━━━━━━━━━┳━━━━━━━━━━━━━━━━━━━━━━━━━━━━━━━━━━━━━━━━━━━━━━━━┓\n┃    ┃ Table field                                  ┃ Dataframe field                                ┃\n┡━━━━╇━━━━━━━━━━━━━━━━━━━━━━━━━━━━━━━━━━━━━━━━━━━━━━╇━━━━━━━━━━━━━━━━━━━━━━━━━━━━━━━━━━━━━━━━━━━━━━━━┩\n│ ✅ │ 1: vendor_id: optional int                   │ 1: vendor_id: optional int                     │\n│ ❌ │ 2: tpep_pickup_datetime: optional timestamp  │ 2: tpep_pickup_datetime: optional timestamptz  │\n│ ❌ │ 3: tpep_dropoff_datetime: optional timestamp │ 3: tpep_dropoff_datetime: optional timestamptz │\n│ ✅ │ 4: passenger_count: optional long            │ 4: passenger_count: optional long              │\n│ ✅ │ 5: trip_distance: optional double            │ 5: trip_distance: optional double              │\n│ ✅ │ 6: ratecode_id: optional long                │ 6: ratecode_id: optional long                  │\n│ ✅ │ 7: store_and_fwd_flag: optional string       │ 7: store_and_fwd_flag: optional string         │\n│ ✅ │ 8: pu_location_id: optional int              │ 8: pu_location_id: optional int                │\n│ ✅ │ 9: do_location_id: optional int              │ 9: do_location_id: optional int                │\n│ ✅ │ 10: payment_type: optional long              │ 10: payment_type: optional long                │\n│ ✅ │ 11: fare_amount: optional double             │ 11: fare_amount: optional double               │\n│ ✅ │ 12: extra: optional double                   │ 12: extra: optional double                     │\n│ ✅ │ 13: mta_tax: optional double                 │ 13: mta_tax: optional double                   │\n│ ✅ │ 14: tip_amount: optional double              │ 14: tip_amount: optional double                │\n│ ✅ │ 15: tolls_amount: optional double            │ 15: tolls_amount: optional double              │\n│ ✅ │ 16: improvement_surcharge: optional double   │ 16: improvement_surcharge: optional double     │\n│ ✅ │ 17: total_amount: optional double            │ 17: total_amount: optional double              │\n│ ✅ │ 18: congestion_surcharge: optional double    │ 18: congestion_surcharge: optional double      │\n│ ✅ │ 19: airport_fee: optional double             │ 19: airport_fee: optional double               │\n│ ✅ │ 20: cbd_congestion_fee: optional double      │ 20: cbd_congestion_fee: optional double        │\n└────┴──────────────────────────────────────────────┴────────────────────────────────────────────────┘\n"
     ]
    }
   ],
   "source": [
    "project = catalog.load_table(\"project-frameworks.project\")\n",
    "project.append(table) \n",
    "print(\"✅ Datos insertados en Iceberg\")"
   ]
  },
  {
   "cell_type": "code",
   "execution_count": 30,
   "id": "abd82d59-2d7d-4804-b6e3-71b255b65f99",
   "metadata": {},
   "outputs": [],
   "source": [
    "import pyarrow.compute as pc\n",
    "\n",
    "def convert_timestamps_naive(table, cols):\n",
    "    new_cols = {}\n",
    "    for name in table.schema.names:\n",
    "        col = table[name]\n",
    "        if name in cols:\n",
    "            # Convertir a timestamp sin tz\n",
    "            new_cols[name] = pc.cast(col, pa.timestamp(\"us\"))\n",
    "        else:\n",
    "            new_cols[name] = col\n",
    "    return pa.table(new_cols)\n",
    "\n",
    "# Columnas conflictivas\n",
    "timestamp_cols = [\"tpep_pickup_datetime\", \"tpep_dropoff_datetime\"]\n",
    "\n",
    "# Convertir\n",
    "table_fixed = convert_timestamps_naive(table, timestamp_cols)"
   ]
  },
  {
   "cell_type": "code",
   "execution_count": 31,
   "id": "ad11a3f4-33e0-4b58-8563-e4d2d69e15c2",
   "metadata": {},
   "outputs": [
    {
     "name": "stdout",
     "output_type": "stream",
     "text": [
      "✅ Datos insertados en Iceberg\n"
     ]
    }
   ],
   "source": [
    "project.append(table_fixed)\n",
    "print(\"✅ Datos insertados en Iceberg\")"
   ]
  },
  {
   "cell_type": "code",
   "execution_count": 32,
   "id": "e64e2a3f-61c9-47bc-a085-6c46a70da9d1",
   "metadata": {},
   "outputs": [
    {
     "name": "stdout",
     "output_type": "stream",
     "text": [
      "vendor_id: int32\n",
      "tpep_pickup_datetime: timestamp[us]\n",
      "tpep_dropoff_datetime: timestamp[us]\n",
      "passenger_count: int64\n",
      "trip_distance: double\n",
      "ratecode_id: int64\n",
      "store_and_fwd_flag: large_string\n",
      "pu_location_id: int32\n",
      "do_location_id: int32\n",
      "payment_type: int64\n",
      "fare_amount: double\n",
      "extra: double\n",
      "mta_tax: double\n",
      "tip_amount: double\n",
      "tolls_amount: double\n",
      "improvement_surcharge: double\n",
      "total_amount: double\n",
      "congestion_surcharge: double\n",
      "airport_fee: double\n",
      "cbd_congestion_fee: double\n"
     ]
    }
   ],
   "source": [
    "print(table_fixed.schema)"
   ]
  },
  {
   "cell_type": "code",
   "execution_count": 33,
   "id": "7ae247f7-c48e-46dc-95ca-5925e0280759",
   "metadata": {},
   "outputs": [
    {
     "name": "stdout",
     "output_type": "stream",
     "text": [
      "   vendor_id tpep_pickup_datetime tpep_dropoff_datetime  passenger_count  \\\n",
      "0          1  2025-01-01 00:18:38   2025-01-01 00:26:59              1.0   \n",
      "1          1  2025-01-01 00:32:40   2025-01-01 00:35:13              1.0   \n",
      "2          1  2025-01-01 00:44:04   2025-01-01 00:46:01              1.0   \n",
      "3          2  2025-01-01 00:14:27   2025-01-01 00:20:01              3.0   \n",
      "4          2  2025-01-01 00:21:34   2025-01-01 00:25:06              3.0   \n",
      "\n",
      "   trip_distance  ratecode_id store_and_fwd_flag  pu_location_id  \\\n",
      "0           1.60          1.0                  N             229   \n",
      "1           0.50          1.0                  N             236   \n",
      "2           0.60          1.0                  N             141   \n",
      "3           0.52          1.0                  N             244   \n",
      "4           0.66          1.0                  N             244   \n",
      "\n",
      "   do_location_id  payment_type  fare_amount  extra  mta_tax  tip_amount  \\\n",
      "0             237             1         10.0    3.5      0.5        3.00   \n",
      "1             237             1          5.1    3.5      0.5        2.02   \n",
      "2             141             1          5.1    3.5      0.5        2.00   \n",
      "3             244             2          7.2    1.0      0.5        0.00   \n",
      "4             116             2          5.8    1.0      0.5        0.00   \n",
      "\n",
      "   tolls_amount  improvement_surcharge  total_amount  congestion_surcharge  \\\n",
      "0           0.0                    1.0         18.00                   2.5   \n",
      "1           0.0                    1.0         12.12                   2.5   \n",
      "2           0.0                    1.0         12.10                   2.5   \n",
      "3           0.0                    1.0          9.70                   0.0   \n",
      "4           0.0                    1.0          8.30                   0.0   \n",
      "\n",
      "   airport_fee  cbd_congestion_fee  \n",
      "0          0.0                 0.0  \n",
      "1          0.0                 0.0  \n",
      "2          0.0                 0.0  \n",
      "3          0.0                 0.0  \n",
      "4          0.0                 0.0  \n"
     ]
    }
   ],
   "source": [
    "# Cargar la tabla desde el catálogo\n",
    "project = catalog.load_table(\"project-frameworks.project\")\n",
    "\n",
    "# Leer los datos en Arrow Table\n",
    "table_arrow = project.scan().to_arrow()\n",
    "\n",
    "# Mostrar los primeros 5 registros\n",
    "print(table_arrow.to_pandas().head())"
   ]
  },
  {
   "cell_type": "code",
   "execution_count": 37,
   "id": "b68dd3f2-7fdc-4462-b821-2284ffdac5ce",
   "metadata": {},
   "outputs": [
    {
     "ename": "JSONDecodeError",
     "evalue": "Expecting value: line 1 column 1 (char 0)",
     "output_type": "error",
     "traceback": [
      "\u001b[0;31m---------------------------------------------------------------------------\u001b[0m",
      "\u001b[0;31mHTTPError\u001b[0m                                 Traceback (most recent call last)",
      "File \u001b[0;32m/opt/conda/lib/python3.11/site-packages/pyiceberg/catalog/rest.py:383\u001b[0m, in \u001b[0;36mRestCatalog._fetch_config\u001b[0;34m(self)\u001b[0m\n\u001b[1;32m    382\u001b[0m \u001b[38;5;28;01mtry\u001b[39;00m:\n\u001b[0;32m--> 383\u001b[0m     \u001b[43mresponse\u001b[49m\u001b[38;5;241;43m.\u001b[39;49m\u001b[43mraise_for_status\u001b[49m\u001b[43m(\u001b[49m\u001b[43m)\u001b[49m\n\u001b[1;32m    384\u001b[0m \u001b[38;5;28;01mexcept\u001b[39;00m HTTPError \u001b[38;5;28;01mas\u001b[39;00m exc:\n",
      "File \u001b[0;32m/opt/conda/lib/python3.11/site-packages/requests/models.py:1021\u001b[0m, in \u001b[0;36mResponse.raise_for_status\u001b[0;34m(self)\u001b[0m\n\u001b[1;32m   1020\u001b[0m \u001b[38;5;28;01mif\u001b[39;00m http_error_msg:\n\u001b[0;32m-> 1021\u001b[0m     \u001b[38;5;28;01mraise\u001b[39;00m HTTPError(http_error_msg, response\u001b[38;5;241m=\u001b[39m\u001b[38;5;28mself\u001b[39m)\n",
      "\u001b[0;31mHTTPError\u001b[0m: 404 Client Error: Not Found for url: http://nessie:19120/api/v1/v1/config?warehouse=s3%3A%2F%2Fwarehouse",
      "\nDuring handling of the above exception, another exception occurred:\n",
      "\u001b[0;31mJSONDecodeError\u001b[0m                           Traceback (most recent call last)",
      "File \u001b[0;32m/opt/conda/lib/python3.11/site-packages/requests/models.py:971\u001b[0m, in \u001b[0;36mResponse.json\u001b[0;34m(self, **kwargs)\u001b[0m\n\u001b[1;32m    970\u001b[0m \u001b[38;5;28;01mtry\u001b[39;00m:\n\u001b[0;32m--> 971\u001b[0m     \u001b[38;5;28;01mreturn\u001b[39;00m \u001b[43mcomplexjson\u001b[49m\u001b[38;5;241;43m.\u001b[39;49m\u001b[43mloads\u001b[49m\u001b[43m(\u001b[49m\u001b[38;5;28;43mself\u001b[39;49m\u001b[38;5;241;43m.\u001b[39;49m\u001b[43mtext\u001b[49m\u001b[43m,\u001b[49m\u001b[43m \u001b[49m\u001b[38;5;241;43m*\u001b[39;49m\u001b[38;5;241;43m*\u001b[39;49m\u001b[43mkwargs\u001b[49m\u001b[43m)\u001b[49m\n\u001b[1;32m    972\u001b[0m \u001b[38;5;28;01mexcept\u001b[39;00m JSONDecodeError \u001b[38;5;28;01mas\u001b[39;00m e:\n\u001b[1;32m    973\u001b[0m     \u001b[38;5;66;03m# Catch JSON-related errors and raise as requests.JSONDecodeError\u001b[39;00m\n\u001b[1;32m    974\u001b[0m     \u001b[38;5;66;03m# This aliases json.JSONDecodeError and simplejson.JSONDecodeError\u001b[39;00m\n",
      "File \u001b[0;32m/opt/conda/lib/python3.11/site-packages/simplejson/__init__.py:514\u001b[0m, in \u001b[0;36mloads\u001b[0;34m(s, encoding, cls, object_hook, parse_float, parse_int, parse_constant, object_pairs_hook, use_decimal, allow_nan, **kw)\u001b[0m\n\u001b[1;32m    510\u001b[0m \u001b[38;5;28;01mif\u001b[39;00m (\u001b[38;5;28mcls\u001b[39m \u001b[38;5;129;01mis\u001b[39;00m \u001b[38;5;28;01mNone\u001b[39;00m \u001b[38;5;129;01mand\u001b[39;00m encoding \u001b[38;5;129;01mis\u001b[39;00m \u001b[38;5;28;01mNone\u001b[39;00m \u001b[38;5;129;01mand\u001b[39;00m object_hook \u001b[38;5;129;01mis\u001b[39;00m \u001b[38;5;28;01mNone\u001b[39;00m \u001b[38;5;129;01mand\u001b[39;00m\n\u001b[1;32m    511\u001b[0m         parse_int \u001b[38;5;129;01mis\u001b[39;00m \u001b[38;5;28;01mNone\u001b[39;00m \u001b[38;5;129;01mand\u001b[39;00m parse_float \u001b[38;5;129;01mis\u001b[39;00m \u001b[38;5;28;01mNone\u001b[39;00m \u001b[38;5;129;01mand\u001b[39;00m\n\u001b[1;32m    512\u001b[0m         parse_constant \u001b[38;5;129;01mis\u001b[39;00m \u001b[38;5;28;01mNone\u001b[39;00m \u001b[38;5;129;01mand\u001b[39;00m object_pairs_hook \u001b[38;5;129;01mis\u001b[39;00m \u001b[38;5;28;01mNone\u001b[39;00m\n\u001b[1;32m    513\u001b[0m         \u001b[38;5;129;01mand\u001b[39;00m \u001b[38;5;129;01mnot\u001b[39;00m use_decimal \u001b[38;5;129;01mand\u001b[39;00m \u001b[38;5;129;01mnot\u001b[39;00m allow_nan \u001b[38;5;129;01mand\u001b[39;00m \u001b[38;5;129;01mnot\u001b[39;00m kw):\n\u001b[0;32m--> 514\u001b[0m     \u001b[38;5;28;01mreturn\u001b[39;00m \u001b[43m_default_decoder\u001b[49m\u001b[38;5;241;43m.\u001b[39;49m\u001b[43mdecode\u001b[49m\u001b[43m(\u001b[49m\u001b[43ms\u001b[49m\u001b[43m)\u001b[49m\n\u001b[1;32m    515\u001b[0m \u001b[38;5;28;01mif\u001b[39;00m \u001b[38;5;28mcls\u001b[39m \u001b[38;5;129;01mis\u001b[39;00m \u001b[38;5;28;01mNone\u001b[39;00m:\n",
      "File \u001b[0;32m/opt/conda/lib/python3.11/site-packages/simplejson/decoder.py:386\u001b[0m, in \u001b[0;36mJSONDecoder.decode\u001b[0;34m(self, s, _w, _PY3)\u001b[0m\n\u001b[1;32m    385\u001b[0m     s \u001b[38;5;241m=\u001b[39m \u001b[38;5;28mstr\u001b[39m(s, \u001b[38;5;28mself\u001b[39m\u001b[38;5;241m.\u001b[39mencoding)\n\u001b[0;32m--> 386\u001b[0m obj, end \u001b[38;5;241m=\u001b[39m \u001b[38;5;28;43mself\u001b[39;49m\u001b[38;5;241;43m.\u001b[39;49m\u001b[43mraw_decode\u001b[49m\u001b[43m(\u001b[49m\u001b[43ms\u001b[49m\u001b[43m)\u001b[49m\n\u001b[1;32m    387\u001b[0m end \u001b[38;5;241m=\u001b[39m _w(s, end)\u001b[38;5;241m.\u001b[39mend()\n",
      "File \u001b[0;32m/opt/conda/lib/python3.11/site-packages/simplejson/decoder.py:416\u001b[0m, in \u001b[0;36mJSONDecoder.raw_decode\u001b[0;34m(self, s, idx, _w, _PY3)\u001b[0m\n\u001b[1;32m    415\u001b[0m         idx \u001b[38;5;241m+\u001b[39m\u001b[38;5;241m=\u001b[39m \u001b[38;5;241m3\u001b[39m\n\u001b[0;32m--> 416\u001b[0m \u001b[38;5;28;01mreturn\u001b[39;00m \u001b[38;5;28;43mself\u001b[39;49m\u001b[38;5;241;43m.\u001b[39;49m\u001b[43mscan_once\u001b[49m\u001b[43m(\u001b[49m\u001b[43ms\u001b[49m\u001b[43m,\u001b[49m\u001b[43m \u001b[49m\u001b[43midx\u001b[49m\u001b[38;5;241;43m=\u001b[39;49m\u001b[43m_w\u001b[49m\u001b[43m(\u001b[49m\u001b[43ms\u001b[49m\u001b[43m,\u001b[49m\u001b[43m \u001b[49m\u001b[43midx\u001b[49m\u001b[43m)\u001b[49m\u001b[38;5;241;43m.\u001b[39;49m\u001b[43mend\u001b[49m\u001b[43m(\u001b[49m\u001b[43m)\u001b[49m\u001b[43m)\u001b[49m\n",
      "\u001b[0;31mJSONDecodeError\u001b[0m: Expecting value: line 1 column 1 (char 0)",
      "\nDuring handling of the above exception, another exception occurred:\n",
      "\u001b[0;31mJSONDecodeError\u001b[0m                           Traceback (most recent call last)",
      "Cell \u001b[0;32mIn[37], line 3\u001b[0m\n\u001b[1;32m      1\u001b[0m \u001b[38;5;28;01mfrom\u001b[39;00m \u001b[38;5;21;01mpyiceberg\u001b[39;00m\u001b[38;5;21;01m.\u001b[39;00m\u001b[38;5;21;01mcatalog\u001b[39;00m \u001b[38;5;28;01mimport\u001b[39;00m load_catalog\n\u001b[0;32m----> 3\u001b[0m catalog \u001b[38;5;241m=\u001b[39m \u001b[43mload_catalog\u001b[49m\u001b[43m(\u001b[49m\n\u001b[1;32m      4\u001b[0m \u001b[43m    \u001b[49m\u001b[38;5;124;43m\"\u001b[39;49m\u001b[38;5;124;43mnessie\u001b[39;49m\u001b[38;5;124;43m\"\u001b[39;49m\u001b[43m,\u001b[49m\n\u001b[1;32m      5\u001b[0m \u001b[43m    \u001b[49m\u001b[43muri\u001b[49m\u001b[38;5;241;43m=\u001b[39;49m\u001b[38;5;124;43m\"\u001b[39;49m\u001b[38;5;124;43mhttp://nessie:19120/api/v1\u001b[39;49m\u001b[38;5;124;43m\"\u001b[39;49m\u001b[43m,\u001b[49m\u001b[43m  \u001b[49m\n\u001b[1;32m      6\u001b[0m \u001b[43m    \u001b[49m\u001b[43mdefault_branch\u001b[49m\u001b[38;5;241;43m=\u001b[39;49m\u001b[38;5;124;43m\"\u001b[39;49m\u001b[38;5;124;43mmain\u001b[39;49m\u001b[38;5;124;43m\"\u001b[39;49m\n\u001b[1;32m      7\u001b[0m \u001b[43m)\u001b[49m\n",
      "File \u001b[0;32m/opt/conda/lib/python3.11/site-packages/pyiceberg/catalog/__init__.py:260\u001b[0m, in \u001b[0;36mload_catalog\u001b[0;34m(name, **properties)\u001b[0m\n\u001b[1;32m    257\u001b[0m     catalog_type \u001b[38;5;241m=\u001b[39m infer_catalog_type(name, conf)\n\u001b[1;32m    259\u001b[0m \u001b[38;5;28;01mif\u001b[39;00m catalog_type:\n\u001b[0;32m--> 260\u001b[0m     \u001b[38;5;28;01mreturn\u001b[39;00m \u001b[43mAVAILABLE_CATALOGS\u001b[49m\u001b[43m[\u001b[49m\u001b[43mcatalog_type\u001b[49m\u001b[43m]\u001b[49m\u001b[43m(\u001b[49m\u001b[43mname\u001b[49m\u001b[43m,\u001b[49m\u001b[43m \u001b[49m\u001b[43mcast\u001b[49m\u001b[43m(\u001b[49m\u001b[43mDict\u001b[49m\u001b[43m[\u001b[49m\u001b[38;5;28;43mstr\u001b[39;49m\u001b[43m,\u001b[49m\u001b[43m \u001b[49m\u001b[38;5;28;43mstr\u001b[39;49m\u001b[43m]\u001b[49m\u001b[43m,\u001b[49m\u001b[43m \u001b[49m\u001b[43mconf\u001b[49m\u001b[43m)\u001b[49m\u001b[43m)\u001b[49m\n\u001b[1;32m    262\u001b[0m \u001b[38;5;28;01mraise\u001b[39;00m \u001b[38;5;167;01mValueError\u001b[39;00m(\u001b[38;5;124mf\u001b[39m\u001b[38;5;124m\"\u001b[39m\u001b[38;5;124mCould not initialize catalog with the following properties: \u001b[39m\u001b[38;5;132;01m{\u001b[39;00mproperties\u001b[38;5;132;01m}\u001b[39;00m\u001b[38;5;124m\"\u001b[39m)\n",
      "File \u001b[0;32m/opt/conda/lib/python3.11/site-packages/pyiceberg/catalog/__init__.py:125\u001b[0m, in \u001b[0;36mload_rest\u001b[0;34m(name, conf)\u001b[0m\n\u001b[1;32m    122\u001b[0m \u001b[38;5;28;01mdef\u001b[39;00m \u001b[38;5;21mload_rest\u001b[39m(name: \u001b[38;5;28mstr\u001b[39m, conf: Properties) \u001b[38;5;241m-\u001b[39m\u001b[38;5;241m>\u001b[39m Catalog:\n\u001b[1;32m    123\u001b[0m     \u001b[38;5;28;01mfrom\u001b[39;00m \u001b[38;5;21;01mpyiceberg\u001b[39;00m\u001b[38;5;21;01m.\u001b[39;00m\u001b[38;5;21;01mcatalog\u001b[39;00m\u001b[38;5;21;01m.\u001b[39;00m\u001b[38;5;21;01mrest\u001b[39;00m \u001b[38;5;28;01mimport\u001b[39;00m RestCatalog\n\u001b[0;32m--> 125\u001b[0m     \u001b[38;5;28;01mreturn\u001b[39;00m \u001b[43mRestCatalog\u001b[49m\u001b[43m(\u001b[49m\u001b[43mname\u001b[49m\u001b[43m,\u001b[49m\u001b[43m \u001b[49m\u001b[38;5;241;43m*\u001b[39;49m\u001b[38;5;241;43m*\u001b[39;49m\u001b[43mconf\u001b[49m\u001b[43m)\u001b[49m\n",
      "File \u001b[0;32m/opt/conda/lib/python3.11/site-packages/pyiceberg/catalog/rest.py:264\u001b[0m, in \u001b[0;36mRestCatalog.__init__\u001b[0;34m(self, name, **properties)\u001b[0m\n\u001b[1;32m    262\u001b[0m \u001b[38;5;28msuper\u001b[39m()\u001b[38;5;241m.\u001b[39m\u001b[38;5;21m__init__\u001b[39m(name, \u001b[38;5;241m*\u001b[39m\u001b[38;5;241m*\u001b[39mproperties)\n\u001b[1;32m    263\u001b[0m \u001b[38;5;28mself\u001b[39m\u001b[38;5;241m.\u001b[39muri \u001b[38;5;241m=\u001b[39m properties[URI]\n\u001b[0;32m--> 264\u001b[0m \u001b[38;5;28;43mself\u001b[39;49m\u001b[38;5;241;43m.\u001b[39;49m\u001b[43m_fetch_config\u001b[49m\u001b[43m(\u001b[49m\u001b[43m)\u001b[49m\n\u001b[1;32m    265\u001b[0m \u001b[38;5;28mself\u001b[39m\u001b[38;5;241m.\u001b[39m_session \u001b[38;5;241m=\u001b[39m \u001b[38;5;28mself\u001b[39m\u001b[38;5;241m.\u001b[39m_create_session()\n",
      "File \u001b[0;32m/opt/conda/lib/python3.11/site-packages/pyiceberg/catalog/rest.py:385\u001b[0m, in \u001b[0;36mRestCatalog._fetch_config\u001b[0;34m(self)\u001b[0m\n\u001b[1;32m    383\u001b[0m     response\u001b[38;5;241m.\u001b[39mraise_for_status()\n\u001b[1;32m    384\u001b[0m \u001b[38;5;28;01mexcept\u001b[39;00m HTTPError \u001b[38;5;28;01mas\u001b[39;00m exc:\n\u001b[0;32m--> 385\u001b[0m     \u001b[38;5;28;43mself\u001b[39;49m\u001b[38;5;241;43m.\u001b[39;49m\u001b[43m_handle_non_200_response\u001b[49m\u001b[43m(\u001b[49m\u001b[43mexc\u001b[49m\u001b[43m,\u001b[49m\u001b[43m \u001b[49m\u001b[43m{\u001b[49m\u001b[43m}\u001b[49m\u001b[43m)\u001b[49m\n\u001b[1;32m    386\u001b[0m config_response \u001b[38;5;241m=\u001b[39m ConfigResponse(\u001b[38;5;241m*\u001b[39m\u001b[38;5;241m*\u001b[39mresponse\u001b[38;5;241m.\u001b[39mjson())\n\u001b[1;32m    388\u001b[0m config \u001b[38;5;241m=\u001b[39m config_response\u001b[38;5;241m.\u001b[39mdefaults\n",
      "File \u001b[0;32m/opt/conda/lib/python3.11/site-packages/pyiceberg/catalog/rest.py:453\u001b[0m, in \u001b[0;36mRestCatalog._handle_non_200_response\u001b[0;34m(self, exc, error_handler)\u001b[0m\n\u001b[1;32m    451\u001b[0m             response \u001b[38;5;241m+\u001b[39m\u001b[38;5;241m=\u001b[39m \u001b[38;5;124mf\u001b[39m\u001b[38;5;124m\"\u001b[39m\u001b[38;5;124m (\u001b[39m\u001b[38;5;132;01m{\u001b[39;00muri\u001b[38;5;132;01m}\u001b[39;00m\u001b[38;5;124m)\u001b[39m\u001b[38;5;124m\"\u001b[39m\n\u001b[1;32m    452\u001b[0m     \u001b[38;5;28;01melse\u001b[39;00m:\n\u001b[0;32m--> 453\u001b[0m         error \u001b[38;5;241m=\u001b[39m ErrorResponse(\u001b[38;5;241m*\u001b[39m\u001b[38;5;241m*\u001b[39m\u001b[43mexc\u001b[49m\u001b[38;5;241;43m.\u001b[39;49m\u001b[43mresponse\u001b[49m\u001b[38;5;241;43m.\u001b[39;49m\u001b[43mjson\u001b[49m\u001b[43m(\u001b[49m\u001b[43m)\u001b[49m)\u001b[38;5;241m.\u001b[39merror\n\u001b[1;32m    454\u001b[0m         response \u001b[38;5;241m=\u001b[39m \u001b[38;5;124mf\u001b[39m\u001b[38;5;124m\"\u001b[39m\u001b[38;5;132;01m{\u001b[39;00merror\u001b[38;5;241m.\u001b[39mtype\u001b[38;5;132;01m}\u001b[39;00m\u001b[38;5;124m: \u001b[39m\u001b[38;5;132;01m{\u001b[39;00merror\u001b[38;5;241m.\u001b[39mmessage\u001b[38;5;132;01m}\u001b[39;00m\u001b[38;5;124m\"\u001b[39m\n\u001b[1;32m    455\u001b[0m \u001b[38;5;28;01mexcept\u001b[39;00m JSONDecodeError:\n\u001b[1;32m    456\u001b[0m     \u001b[38;5;66;03m# In the case we don't have a proper response\u001b[39;00m\n",
      "File \u001b[0;32m/opt/conda/lib/python3.11/site-packages/requests/models.py:975\u001b[0m, in \u001b[0;36mResponse.json\u001b[0;34m(self, **kwargs)\u001b[0m\n\u001b[1;32m    971\u001b[0m     \u001b[38;5;28;01mreturn\u001b[39;00m complexjson\u001b[38;5;241m.\u001b[39mloads(\u001b[38;5;28mself\u001b[39m\u001b[38;5;241m.\u001b[39mtext, \u001b[38;5;241m*\u001b[39m\u001b[38;5;241m*\u001b[39mkwargs)\n\u001b[1;32m    972\u001b[0m \u001b[38;5;28;01mexcept\u001b[39;00m JSONDecodeError \u001b[38;5;28;01mas\u001b[39;00m e:\n\u001b[1;32m    973\u001b[0m     \u001b[38;5;66;03m# Catch JSON-related errors and raise as requests.JSONDecodeError\u001b[39;00m\n\u001b[1;32m    974\u001b[0m     \u001b[38;5;66;03m# This aliases json.JSONDecodeError and simplejson.JSONDecodeError\u001b[39;00m\n\u001b[0;32m--> 975\u001b[0m     \u001b[38;5;28;01mraise\u001b[39;00m RequestsJSONDecodeError(e\u001b[38;5;241m.\u001b[39mmsg, e\u001b[38;5;241m.\u001b[39mdoc, e\u001b[38;5;241m.\u001b[39mpos)\n",
      "\u001b[0;31mJSONDecodeError\u001b[0m: Expecting value: line 1 column 1 (char 0)"
     ]
    }
   ],
   "source": [
    "from pyiceberg.catalog import load_catalog\n",
    "\n",
    "catalog = load_catalog(\n",
    "    \"nessie\",\n",
    "    uri=\"http://nessie:19120/api/v1\",  \n",
    "    default_branch=\"main\"\n",
    ")"
   ]
  },
  {
   "cell_type": "code",
   "execution_count": null,
   "id": "3e3c58f1-c444-4d3c-9f3b-8c1c5984bf68",
   "metadata": {},
   "outputs": [],
   "source": []
  }
 ],
 "metadata": {
  "kernelspec": {
   "display_name": "Python 3 (ipykernel)",
   "language": "python",
   "name": "python3"
  },
  "language_info": {
   "codemirror_mode": {
    "name": "ipython",
    "version": 3
   },
   "file_extension": ".py",
   "mimetype": "text/x-python",
   "name": "python",
   "nbconvert_exporter": "python",
   "pygments_lexer": "ipython3",
   "version": "3.11.6"
  }
 },
 "nbformat": 4,
 "nbformat_minor": 5
}
