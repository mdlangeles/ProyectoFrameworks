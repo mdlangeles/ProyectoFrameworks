{
 "cells": [
  {
   "cell_type": "code",
   "execution_count": 21,
   "id": "6bbe3529-c0e8-4527-8519-011f407b6db8",
   "metadata": {},
   "outputs": [],
   "source": [
    "import os, posixpath\n",
    "import boto3\n",
    "from botocore.config import Config\n",
    "from botocore.exceptions import ClientError\n",
    "from azure.storage.blob import BlobServiceClient\n",
    "\n",
    "PROFILE   = \"s3_to_adls\"  # el nombre que usaste en secrets.toml\n",
    "\n",
    "src_cfg   = dlt.secrets[f\"{PROFILE}.sources.filesystem\"]\n",
    "src_creds = dlt.secrets[f\"{PROFILE}.sources.filesystem.credentials\"]\n",
    "\n",
    "# --- MinIO (ya montado por compose) ---\n",
    "MINIO_ENDPOINT   = src_creds[\"endpoint_url\"]\n",
    "MINIO_ACCESS_KEY = src_creds[\"aws_access_key_id\"]\n",
    "MINIO_SECRET_KEY = src_creds[\"aws_secret_access_key\"]\n",
    "MINIO_BUCKET     = src_cfg[\"bucket_url\"].replace(\"s3://\", \"\").split(\"/\", 1)[0]\n",
    "\n",
    "# Prefijo de la tabla Iceberg\n",
    "SOURCE_PREFIX = \"taxis/taxis_iceberg_2ad9c723-20f8-4b50-9fbb-08941abc60a2\"\n"
   ]
  },
  {
   "cell_type": "code",
   "execution_count": 22,
   "id": "cc098369-d4ca-49b0-b1e0-64bbbf75403b",
   "metadata": {},
   "outputs": [
    {
     "name": "stdout",
     "output_type": "stream",
     "text": [
      "Archivos Parquet encontrados en s3://my-bucket/taxis/taxis_iceberg_2ad9c723-20f8-4b50-9fbb-08941abc60a2: 1\n",
      "- taxis/taxis_iceberg_2ad9c723-20f8-4b50-9fbb-08941abc60a2/data/00000-0-0374a941-931f-45e7-a8e6-c6546b330357.parquet (60161.3 KiB)\n"
     ]
    }
   ],
   "source": [
    "# Lista todos los archivos .parquet en el prefijo de la tabla Iceberg\n",
    "def iter_s3_objects(bucket: str, prefix: str, page_size: int = 1000):\n",
    "    token = None\n",
    "    while True:\n",
    "        kw = {\"Bucket\": bucket, \"Prefix\": prefix, \"MaxKeys\": page_size}\n",
    "        if token:\n",
    "            kw[\"ContinuationToken\"] = token\n",
    "        resp = s3.list_objects_v2(**kw)\n",
    "        for obj in resp.get(\"Contents\", []):\n",
    "            yield obj[\"Key\"], obj.get(\"Size\", 0)\n",
    "        if not resp.get(\"IsTruncated\"):\n",
    "            break\n",
    "        token = resp.get(\"NextContinuationToken\")\n",
    "\n",
    "# Lista los objetos en MinIO bajo el prefijo de la tabla\n",
    "keys = [(key, size) for key, size in iter_s3_objects(MINIO_BUCKET, SOURCE_PREFIX) if key.endswith(\".parquet\")]\n",
    "print(f\"Archivos Parquet encontrados en s3://{MINIO_BUCKET}/{SOURCE_PREFIX}: {len(keys)}\")\n",
    "\n",
    "for k, sz in keys[:10]:\n",
    "    print(f\"- {k} ({sz/1024:.1f} KiB)\")\n"
   ]
  },
  {
   "cell_type": "code",
   "execution_count": 23,
   "id": "ee992db9-d9fd-4861-bf79-8f4fa4f792c5",
   "metadata": {},
   "outputs": [
    {
     "name": "stdout",
     "output_type": "stream",
     "text": [
      "Objeto encontrado: taxis/taxis_iceberg_2ad9c723-20f8-4b50-9fbb-08941abc60a2/data/00000-0-0374a941-931f-45e7-a8e6-c6546b330357.parquet\n",
      "Objeto encontrado: taxis/taxis_iceberg_2ad9c723-20f8-4b50-9fbb-08941abc60a2/metadata/00000-3c8addf3-5402-4848-8ea9-9b404e7f34a2.metadata.json\n",
      "Objeto encontrado: taxis/taxis_iceberg_2ad9c723-20f8-4b50-9fbb-08941abc60a2/metadata/00000-9a4538b6-78d4-4165-b2fe-e9188b57dfbe.metadata.json\n",
      "Objeto encontrado: taxis/taxis_iceberg_2ad9c723-20f8-4b50-9fbb-08941abc60a2/metadata/0374a941-931f-45e7-a8e6-c6546b330357-m0.avro\n",
      "Objeto encontrado: taxis/taxis_iceberg_2ad9c723-20f8-4b50-9fbb-08941abc60a2/metadata/snap-4205361071682720890-0-0374a941-931f-45e7-a8e6-c6546b330357.avro\n"
     ]
    }
   ],
   "source": [
    "def list_minio_objects():\n",
    "    objects = s3.list_objects_v2(Bucket=MINIO_BUCKET, Prefix=\"taxis/taxis_iceberg_2ad9c723-20f8-4b50-9fbb-08941abc60a2\")\n",
    "    for obj in objects.get(\"Contents\", []):\n",
    "        print(f\"Objeto encontrado: {obj['Key']}\")\n",
    "\n",
    "list_minio_objects()\n"
   ]
  },
  {
   "cell_type": "code",
   "execution_count": 25,
   "id": "6d56ce3d-ab75-4a5c-b6a5-b6f9fee0ccba",
   "metadata": {},
   "outputs": [
    {
     "name": "stderr",
     "output_type": "stream",
     "text": [
      "Copiando tabla Iceberg a Azure: 100%|██████████| 1/1 [00:14<00:00, 14.92s/it]"
     ]
    },
    {
     "name": "stdout",
     "output_type": "stream",
     "text": [
      "✅ Copiados 1 archivos de MinIO a Azure en clase-4-dlt/Equipo1/\n"
     ]
    },
    {
     "name": "stderr",
     "output_type": "stream",
     "text": [
      "\n"
     ]
    }
   ],
   "source": [
    "# --- Azure cliente ---\n",
    "creds = dlt.secrets[\"s3_to_adls.destination.filesystem.credentials\"]\n",
    "account_name = creds[\"azure_storage_account_name\"]\n",
    "account_key  = creds[\"azure_storage_account_key\"]\n",
    "\n",
    "blob_service = BlobServiceClient(\n",
    "    account_url=f\"https://{account_name}.blob.core.windows.net\",\n",
    "    credential=account_key\n",
    ")\n",
    "\n",
    "# --- contenedor de la clase para Azure ---\n",
    "dest_info = dlt.secrets[\"s3_to_adls.destination.filesystem\"]\n",
    "container_name = dest_info[\"bucket_url\"].split(\"@\")[0].replace(\"abfss://\", \"\")\n",
    "container = blob_service.get_container_client(container_name)\n",
    "\n",
    "# Copiar todos los archivos de MinIO a Azure\n",
    "copiados = 0\n",
    "for key, _ in tqdm(keys, desc=\"Copiando tabla Iceberg a Azure\"):\n",
    "    dest_key = f\"Grupo1/{key}\"  # Guardamos bajo la carpeta Grupo1 para que se remplace con al del profe\n",
    "    obj = s3.get_object(Bucket=MINIO_BUCKET, Key=key)\n",
    "    container.upload_blob(name=dest_key, data=obj[\"Body\"], overwrite=True)\n",
    "    copiados += 1\n",
    "\n",
    "print(f\"Copiados!!! {copiados} archivos de MinIO a Azure en {container_name}/Equipo1/\")\n"
   ]
  },
  {
   "cell_type": "code",
   "execution_count": null,
   "id": "7873bc2d-6f09-417c-8202-f03a6d969889",
   "metadata": {},
   "outputs": [],
   "source": []
  }
 ],
 "metadata": {
  "kernelspec": {
   "display_name": "Python 3 (ipykernel)",
   "language": "python",
   "name": "python3"
  },
  "language_info": {
   "codemirror_mode": {
    "name": "ipython",
    "version": 3
   },
   "file_extension": ".py",
   "mimetype": "text/x-python",
   "name": "python",
   "nbconvert_exporter": "python",
   "pygments_lexer": "ipython3",
   "version": "3.11.6"
  }
 },
 "nbformat": 4,
 "nbformat_minor": 5
}
