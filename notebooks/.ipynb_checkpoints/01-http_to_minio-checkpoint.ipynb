{
 "cells": [
  {
   "cell_type": "code",
   "execution_count": 1,
   "id": "a8a86fe1",
   "metadata": {},
   "outputs": [
    {
     "name": "stdout",
     "output_type": "stream",
     "text": [
      "Requirement already satisfied: dlt in /opt/conda/lib/python3.11/site-packages (0.5.1)\n",
      "Requirement already satisfied: PyYAML>=5.4.1 in /opt/conda/lib/python3.11/site-packages (from dlt) (6.0.1)\n",
      "Requirement already satisfied: astunparse>=1.6.3 in /opt/conda/lib/python3.11/site-packages (from dlt) (1.6.3)\n",
      "Requirement already satisfied: click>=7.1 in /opt/conda/lib/python3.11/site-packages (from dlt) (8.1.7)\n",
      "Requirement already satisfied: fsspec>=2022.4.0 in /opt/conda/lib/python3.11/site-packages (from dlt) (2025.9.0)\n",
      "Requirement already satisfied: gitpython>=3.1.29 in /opt/conda/lib/python3.11/site-packages (from dlt) (3.1.40)\n",
      "Requirement already satisfied: giturlparse>=0.10.0 in /opt/conda/lib/python3.11/site-packages (from dlt) (0.12.0)\n",
      "Requirement already satisfied: hexbytes>=0.2.2 in /opt/conda/lib/python3.11/site-packages (from dlt) (1.3.1)\n",
      "Requirement already satisfied: humanize>=4.4.0 in /opt/conda/lib/python3.11/site-packages (from dlt) (4.13.0)\n",
      "Requirement already satisfied: jsonpath-ng>=1.5.3 in /opt/conda/lib/python3.11/site-packages (from dlt) (1.7.0)\n",
      "Requirement already satisfied: makefun>=1.15.0 in /opt/conda/lib/python3.11/site-packages (from dlt) (1.16.0)\n",
      "Requirement already satisfied: orjson!=3.10.1,!=3.9.11,!=3.9.12,!=3.9.13,!=3.9.14,<4,>=3.6.7 in /opt/conda/lib/python3.11/site-packages (from dlt) (3.11.3)\n",
      "Requirement already satisfied: packaging>=21.1 in /opt/conda/lib/python3.11/site-packages (from dlt) (23.2)\n",
      "Requirement already satisfied: pathvalidate>=2.5.2 in /opt/conda/lib/python3.11/site-packages (from dlt) (3.3.1)\n",
      "Requirement already satisfied: pendulum>=2.1.2 in /opt/conda/lib/python3.11/site-packages (from dlt) (3.1.0)\n",
      "Requirement already satisfied: pytz>=2022.6 in /opt/conda/lib/python3.11/site-packages (from dlt) (2023.3.post1)\n",
      "Requirement already satisfied: requests>=2.26.0 in /opt/conda/lib/python3.11/site-packages (from dlt) (2.32.3)\n",
      "Requirement already satisfied: requirements-parser>=0.5.0 in /opt/conda/lib/python3.11/site-packages (from dlt) (0.13.0)\n",
      "Requirement already satisfied: semver>=2.13.0 in /opt/conda/lib/python3.11/site-packages (from dlt) (3.0.4)\n",
      "Requirement already satisfied: setuptools>=65.6.0 in /opt/conda/lib/python3.11/site-packages (from dlt) (68.2.2)\n",
      "Requirement already satisfied: simplejson>=3.17.5 in /opt/conda/lib/python3.11/site-packages (from dlt) (3.20.1)\n",
      "Requirement already satisfied: tenacity>=8.0.2 in /opt/conda/lib/python3.11/site-packages (from dlt) (9.1.2)\n",
      "Requirement already satisfied: tomlkit>=0.11.3 in /opt/conda/lib/python3.11/site-packages (from dlt) (0.13.3)\n",
      "Requirement already satisfied: typing-extensions>=4.0.0 in /opt/conda/lib/python3.11/site-packages (from dlt) (4.8.0)\n",
      "Requirement already satisfied: tzdata>=2022.1 in /opt/conda/lib/python3.11/site-packages (from dlt) (2023.3)\n",
      "Requirement already satisfied: wheel<1.0,>=0.23.0 in /opt/conda/lib/python3.11/site-packages (from astunparse>=1.6.3->dlt) (0.41.2)\n",
      "Requirement already satisfied: six<2.0,>=1.6.1 in /opt/conda/lib/python3.11/site-packages (from astunparse>=1.6.3->dlt) (1.16.0)\n",
      "Requirement already satisfied: gitdb<5,>=4.0.1 in /opt/conda/lib/python3.11/site-packages (from gitpython>=3.1.29->dlt) (4.0.10)\n",
      "Requirement already satisfied: ply in /opt/conda/lib/python3.11/site-packages (from jsonpath-ng>=1.5.3->dlt) (3.11)\n",
      "Requirement already satisfied: python-dateutil>=2.6 in /opt/conda/lib/python3.11/site-packages (from pendulum>=2.1.2->dlt) (2.8.2)\n",
      "Requirement already satisfied: charset-normalizer<4,>=2 in /opt/conda/lib/python3.11/site-packages (from requests>=2.26.0->dlt) (3.3.0)\n",
      "Requirement already satisfied: idna<4,>=2.5 in /opt/conda/lib/python3.11/site-packages (from requests>=2.26.0->dlt) (3.4)\n",
      "Requirement already satisfied: urllib3<3,>=1.21.1 in /opt/conda/lib/python3.11/site-packages (from requests>=2.26.0->dlt) (2.0.7)\n",
      "Requirement already satisfied: certifi>=2017.4.17 in /opt/conda/lib/python3.11/site-packages (from requests>=2.26.0->dlt) (2023.7.22)\n",
      "Requirement already satisfied: smmap<6,>=3.0.1 in /opt/conda/lib/python3.11/site-packages (from gitdb<5,>=4.0.1->gitpython>=3.1.29->dlt) (3.0.5)\n"
     ]
    }
   ],
   "source": [
    "!pip install dlt"
   ]
  },
  {
   "cell_type": "code",
   "execution_count": 2,
   "id": "34eb78d2-2bee-4041-83c9-dbb0143b7c0c",
   "metadata": {},
   "outputs": [],
   "source": [
    "import dlt\n",
    "import pyarrow.parquet as pq\n",
    "import requests\n",
    "import pandas as pd\n",
    "import os\n",
    "import tempfile\n",
    "import pyarrow.parquet as pq\n",
    "from minio import Minio"
   ]
  },
  {
   "cell_type": "code",
   "execution_count": 3,
   "id": "acb94650-aaee-4b44-ad3c-ec5954085493",
   "metadata": {},
   "outputs": [
    {
     "name": "stdout",
     "output_type": "stream",
     "text": [
      "MinIO URL: s3://warehouse?endpoint=http://http://minio:9000&access_key=admin&secret_key=password&region=us-east-1\n",
      "pipeline configured\n",
      "Iniciando ingesta de datos...\n",
      "Descargando archivo parquet...\n"
     ]
    },
    {
     "name": "stderr",
     "output_type": "stream",
     "text": [
      "/opt/conda/lib/python3.11/site-packages/dlt/pipeline/__init__.py:118: Dlt04DeprecationWarning: The `full_refresh` argument to pipeline is deprecated and will be removed in a future version. Use `dev_mode=True` instead which will have the same effect. Deprecated in dlt 0.4.0 to be removed in 0.5.0.\n",
      "  full_refresh_argument_deprecated(\"pipeline\", full_refresh)\n"
     ]
    },
    {
     "name": "stdout",
     "output_type": "stream",
     "text": [
      "Datos cargados en Arrow: 3475226 filas, 20 columnas\n",
      "Pipeline ejecutado exitosamente!\n",
      "Load info: Pipeline yellow_trip_data_pipeline load step completed in 1.71 seconds\n",
      "1 load package(s) were loaded to destination filesystem and into dataset yellow_trip_20250912011514\n",
      "The filesystem destination used s3://warehouse location to store data\n",
      "Load package 1757639714.3133307 is LOADED and contains no failed jobs\n"
     ]
    }
   ],
   "source": [
    "# Configuración de la URL\n",
    "URL = \"https://d37ci6vzurychx.cloudfront.net/trip-data/yellow_tripdata_2025-01.parquet\"\n",
    "@dlt.resource(name=\"yellow_trip_data\", write_disposition=\"replace\")\n",
    "def yellow_trip_data():\n",
    "    try:\n",
    "        print(\"Descargando archivo parquet...\")\n",
    "        response = requests.get(URL, stream=True)\n",
    "        response.raise_for_status()\n",
    "\n",
    "        with tempfile.NamedTemporaryFile(suffix=\".parquet\") as tmp:\n",
    "            tmp.write(response.content)\n",
    "            tmp.flush()\n",
    "\n",
    "            # Leer en formato Arrow\n",
    "            table = pq.read_table(tmp.name)\n",
    "            print(f\"Datos cargados en Arrow: {table.num_rows} filas, {table.num_columns} columnas\")\n",
    "            yield table\n",
    "\n",
    "    except Exception as e:\n",
    "        print(f\"Error al descargar o procesar datos: {e}\")\n",
    "        raise\n",
    "\n",
    "def main():\n",
    "    try:\n",
    "        # Configuración de MinIO\n",
    "        minio_endpoint = os.getenv('MINIO_ENDPOINT', 'minio:9000')  # Cambiado a 'minio' para Docker\n",
    "        bucket_name = os.getenv('BUCKET_NAME', 'warehouse')         # Usando el bucket existente\n",
    "        access_key = os.getenv('MINIO_ACCESS_KEY', 'admin')\n",
    "        secret_key = os.getenv('MINIO_SECRET_KEY', 'password')\n",
    "        \n",
    "        # Construir la URL de MinIO (S3 compatible)\n",
    "        minio_url = f\"s3://{bucket_name}?endpoint=http://{minio_endpoint}&access_key={access_key}&secret_key={secret_key}&region=us-east-1\"\n",
    "        print(f\"MinIO URL: {minio_url}\")\n",
    "        print(\"pipeline configured\")\n",
    "        # Configurar pipeline\n",
    "        \n",
    "        pipeline = dlt.pipeline(\n",
    "            pipeline_name=\"yellow_trip_data_pipeline\",\n",
    "            destination=dlt.destinations.filesystem(\n",
    "                bucket_url=\"s3://warehouse\",\n",
    "                aws_access_key_id = \"admin\",\n",
    "                aws_secret_access_key = \"password\", # copy the secret access key here\n",
    "                endpoint_url = \"minio:9000\", # copy your endpoint URL here\n",
    "            ),\n",
    "            dataset_name=\"yellow_trip\",\n",
    "            full_refresh=True,\n",
    "        )\n",
    "        \n",
    "        # Ejecutar el pipeline\n",
    "        print(\"Iniciando ingesta de datos...\")\n",
    "        load_info = pipeline.run(\n",
    "            yellow_trip_data(),\n",
    "            loader_file_format=\"parquet\",\n",
    "        )\n",
    "        \n",
    "        print(\"Pipeline ejecutado exitosamente!\")\n",
    "        print(f\"Load info: {load_info}\")\n",
    "        \n",
    "    except Exception as e:\n",
    "        print(f\"Error en el pipeline: {e}\")\n",
    "        raise\n",
    "\n",
    "if __name__ == \"__main__\":\n",
    "    main()"
   ]
  },
  {
   "cell_type": "code",
   "execution_count": 4,
   "id": "0acce8ca-79dc-4055-9d16-31beafd560b5",
   "metadata": {},
   "outputs": [
    {
     "name": "stdout",
     "output_type": "stream",
     "text": [
      "[yellow_trip_data_pipeline.destination.filesystem]\n",
      "bucket_url = \"s3://warehouse\" # replace with your bucket name,\n",
      "\n",
      "[yellow_trip_data_pipeline.destination.filesystem.credentials]\n",
      "aws_access_key_id = \"admin\" # copy the access key here\n",
      "aws_secret_access_key = \"password\" # copy the secret access key here\n",
      "endpoint_url = \"http://minio:9000\" # copy your endpoint URL here"
     ]
    }
   ],
   "source": [
    "!cat .dlt/secrets.toml"
   ]
  }
 ],
 "metadata": {
  "kernelspec": {
   "display_name": "Python 3 (ipykernel)",
   "language": "python",
   "name": "python3"
  },
  "language_info": {
   "codemirror_mode": {
    "name": "ipython",
    "version": 3
   },
   "file_extension": ".py",
   "mimetype": "text/x-python",
   "name": "python",
   "nbconvert_exporter": "python",
   "pygments_lexer": "ipython3",
   "version": "3.11.6"
  }
 },
 "nbformat": 4,
 "nbformat_minor": 5
}
