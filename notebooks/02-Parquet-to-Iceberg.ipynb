{
 "cells": [
  {
   "cell_type": "code",
   "execution_count": 1,
   "id": "698eecb1",
   "metadata": {},
   "outputs": [
    {
     "name": "stdout",
     "output_type": "stream",
     "text": [
      "Collecting pyiceberg\n",
      "  Downloading pyiceberg-0.10.0-cp311-cp311-manylinux2014_x86_64.manylinux_2_17_x86_64.manylinux_2_28_x86_64.whl.metadata (4.9 kB)\n",
      "Collecting cachetools<7.0,>=5.5 (from pyiceberg)\n",
      "  Downloading cachetools-6.2.0-py3-none-any.whl.metadata (5.4 kB)\n",
      "Requirement already satisfied: click<9.0.0,>=7.1.1 in /opt/conda/lib/python3.11/site-packages (from pyiceberg) (8.1.7)\n",
      "Requirement already satisfied: fsspec>=2023.1.0 in /opt/conda/lib/python3.11/site-packages (from pyiceberg) (2025.9.0)\n",
      "Collecting mmh3<6.0.0,>=4.0.0 (from pyiceberg)\n",
      "  Downloading mmh3-5.2.0-cp311-cp311-manylinux1_x86_64.manylinux_2_28_x86_64.manylinux_2_5_x86_64.whl.metadata (14 kB)\n",
      "Collecting pydantic!=2.4.0,!=2.4.1,<3.0,>=2.0 (from pyiceberg)\n",
      "  Downloading pydantic-2.11.7-py3-none-any.whl.metadata (67 kB)\n",
      "\u001b[2K     \u001b[90m━━━━━━━━━━━━━━━━━━━━━━━━━━━━━━━━━━━━━━━━\u001b[0m \u001b[32m68.0/68.0 kB\u001b[0m \u001b[31m1.5 MB/s\u001b[0m eta \u001b[36m0:00:00\u001b[0mta \u001b[36m0:00:01\u001b[0m\n",
      "\u001b[?25hRequirement already satisfied: pyparsing<4.0.0,>=3.1.0 in /opt/conda/lib/python3.11/site-packages (from pyiceberg) (3.1.1)\n",
      "Collecting pyroaring<2.0.0,>=1.0.0 (from pyiceberg)\n",
      "  Downloading pyroaring-1.0.2-cp311-cp311-manylinux_2_17_x86_64.manylinux2014_x86_64.whl.metadata (10 kB)\n",
      "Requirement already satisfied: requests<3.0.0,>=2.20.0 in /opt/conda/lib/python3.11/site-packages (from pyiceberg) (2.32.3)\n",
      "Collecting rich<15.0.0,>=10.11.0 (from pyiceberg)\n",
      "  Downloading rich-14.1.0-py3-none-any.whl.metadata (18 kB)\n",
      "Requirement already satisfied: sortedcontainers==2.4.0 in /opt/conda/lib/python3.11/site-packages (from pyiceberg) (2.4.0)\n",
      "Collecting strictyaml<2.0.0,>=1.7.0 (from pyiceberg)\n",
      "  Downloading strictyaml-1.7.3-py3-none-any.whl.metadata (11 kB)\n",
      "Requirement already satisfied: tenacity<10.0.0,>=8.2.3 in /opt/conda/lib/python3.11/site-packages (from pyiceberg) (9.1.2)\n",
      "Collecting annotated-types>=0.6.0 (from pydantic!=2.4.0,!=2.4.1,<3.0,>=2.0->pyiceberg)\n",
      "  Downloading annotated_types-0.7.0-py3-none-any.whl.metadata (15 kB)\n",
      "Collecting pydantic-core==2.33.2 (from pydantic!=2.4.0,!=2.4.1,<3.0,>=2.0->pyiceberg)\n",
      "  Downloading pydantic_core-2.33.2-cp311-cp311-manylinux_2_17_x86_64.manylinux2014_x86_64.whl.metadata (6.8 kB)\n",
      "Collecting typing-extensions>=4.12.2 (from pydantic!=2.4.0,!=2.4.1,<3.0,>=2.0->pyiceberg)\n",
      "  Downloading typing_extensions-4.15.0-py3-none-any.whl.metadata (3.3 kB)\n",
      "Collecting typing-inspection>=0.4.0 (from pydantic!=2.4.0,!=2.4.1,<3.0,>=2.0->pyiceberg)\n",
      "  Downloading typing_inspection-0.4.1-py3-none-any.whl.metadata (2.6 kB)\n",
      "Requirement already satisfied: charset-normalizer<4,>=2 in /opt/conda/lib/python3.11/site-packages (from requests<3.0.0,>=2.20.0->pyiceberg) (3.3.0)\n",
      "Requirement already satisfied: idna<4,>=2.5 in /opt/conda/lib/python3.11/site-packages (from requests<3.0.0,>=2.20.0->pyiceberg) (3.4)\n",
      "Requirement already satisfied: urllib3<3,>=1.21.1 in /opt/conda/lib/python3.11/site-packages (from requests<3.0.0,>=2.20.0->pyiceberg) (2.0.7)\n",
      "Requirement already satisfied: certifi>=2017.4.17 in /opt/conda/lib/python3.11/site-packages (from requests<3.0.0,>=2.20.0->pyiceberg) (2023.7.22)\n",
      "Collecting markdown-it-py>=2.2.0 (from rich<15.0.0,>=10.11.0->pyiceberg)\n",
      "  Downloading markdown_it_py-4.0.0-py3-none-any.whl.metadata (7.3 kB)\n",
      "Requirement already satisfied: pygments<3.0.0,>=2.13.0 in /opt/conda/lib/python3.11/site-packages (from rich<15.0.0,>=10.11.0->pyiceberg) (2.16.1)\n",
      "Requirement already satisfied: python-dateutil>=2.6.0 in /opt/conda/lib/python3.11/site-packages (from strictyaml<2.0.0,>=1.7.0->pyiceberg) (2.8.2)\n",
      "Collecting mdurl~=0.1 (from markdown-it-py>=2.2.0->rich<15.0.0,>=10.11.0->pyiceberg)\n",
      "  Downloading mdurl-0.1.2-py3-none-any.whl.metadata (1.6 kB)\n",
      "Requirement already satisfied: six>=1.5 in /opt/conda/lib/python3.11/site-packages (from python-dateutil>=2.6.0->strictyaml<2.0.0,>=1.7.0->pyiceberg) (1.16.0)\n",
      "Downloading pyiceberg-0.10.0-cp311-cp311-manylinux2014_x86_64.manylinux_2_17_x86_64.manylinux_2_28_x86_64.whl (1.1 MB)\n",
      "\u001b[2K   \u001b[90m━━━━━━━━━━━━━━━━━━━━━━━━━━━━━━━━━━━━━━━━\u001b[0m \u001b[32m1.1/1.1 MB\u001b[0m \u001b[31m4.3 MB/s\u001b[0m eta \u001b[36m0:00:00\u001b[0ma \u001b[36m0:00:01\u001b[0m\n",
      "\u001b[?25hDownloading cachetools-6.2.0-py3-none-any.whl (11 kB)\n",
      "Downloading mmh3-5.2.0-cp311-cp311-manylinux1_x86_64.manylinux_2_28_x86_64.manylinux_2_5_x86_64.whl (103 kB)\n",
      "\u001b[2K   \u001b[90m━━━━━━━━━━━━━━━━━━━━━━━━━━━━━━━━━━━━━━━━\u001b[0m \u001b[32m103.1/103.1 kB\u001b[0m \u001b[31m3.2 MB/s\u001b[0m eta \u001b[36m0:00:00\u001b[0m\n",
      "\u001b[?25hDownloading pydantic-2.11.7-py3-none-any.whl (444 kB)\n",
      "\u001b[2K   \u001b[90m━━━━━━━━━━━━━━━━━━━━━━━━━━━━━━━━━━━━━━━━\u001b[0m \u001b[32m444.8/444.8 kB\u001b[0m \u001b[31m3.6 MB/s\u001b[0m eta \u001b[36m0:00:00\u001b[0m00:01\u001b[0m00:01\u001b[0mm\n",
      "\u001b[?25hDownloading pydantic_core-2.33.2-cp311-cp311-manylinux_2_17_x86_64.manylinux2014_x86_64.whl (2.0 MB)\n",
      "\u001b[2K   \u001b[90m━━━━━━━━━━━━━━━━━━━━━━━━━━━━━━━━━━━━━━━━\u001b[0m \u001b[32m2.0/2.0 MB\u001b[0m \u001b[31m2.9 MB/s\u001b[0m eta \u001b[36m0:00:00\u001b[0m00:01\u001b[0m00:01\u001b[0mm\n",
      "\u001b[?25hDownloading pyroaring-1.0.2-cp311-cp311-manylinux_2_17_x86_64.manylinux2014_x86_64.whl (2.1 MB)\n",
      "\u001b[2K   \u001b[90m━━━━━━━━━━━━━━━━━━━━━━━━━━━━━━━━━━━━━━━━\u001b[0m \u001b[32m2.1/2.1 MB\u001b[0m \u001b[31m4.7 MB/s\u001b[0m eta \u001b[36m0:00:00\u001b[0m00:01\u001b[0m00:01\u001b[0m\n",
      "\u001b[?25hDownloading rich-14.1.0-py3-none-any.whl (243 kB)\n",
      "\u001b[2K   \u001b[90m━━━━━━━━━━━━━━━━━━━━━━━━━━━━━━━━━━━━━━━━\u001b[0m \u001b[32m243.4/243.4 kB\u001b[0m \u001b[31m5.0 MB/s\u001b[0m eta \u001b[36m0:00:00\u001b[0mta \u001b[36m0:00:01\u001b[0m\n",
      "\u001b[?25hDownloading strictyaml-1.7.3-py3-none-any.whl (123 kB)\n",
      "\u001b[2K   \u001b[90m━━━━━━━━━━━━━━━━━━━━━━━━━━━━━━━━━━━━━━━━\u001b[0m \u001b[32m123.9/123.9 kB\u001b[0m \u001b[31m2.9 MB/s\u001b[0m eta \u001b[36m0:00:00\u001b[0m:00:01\u001b[0m\n",
      "\u001b[?25hDownloading annotated_types-0.7.0-py3-none-any.whl (13 kB)\n",
      "Downloading markdown_it_py-4.0.0-py3-none-any.whl (87 kB)\n",
      "\u001b[2K   \u001b[90m━━━━━━━━━━━━━━━━━━━━━━━━━━━━━━━━━━━━━━━━\u001b[0m \u001b[32m87.3/87.3 kB\u001b[0m \u001b[31m3.0 MB/s\u001b[0m eta \u001b[36m0:00:00\u001b[0m\n",
      "\u001b[?25hDownloading typing_extensions-4.15.0-py3-none-any.whl (44 kB)\n",
      "\u001b[2K   \u001b[90m━━━━━━━━━━━━━━━━━━━━━━━━━━━━━━━━━━━━━━━━\u001b[0m \u001b[32m44.6/44.6 kB\u001b[0m \u001b[31m1.3 MB/s\u001b[0m eta \u001b[36m0:00:00\u001b[0m\n",
      "\u001b[?25hDownloading typing_inspection-0.4.1-py3-none-any.whl (14 kB)\n",
      "Downloading mdurl-0.1.2-py3-none-any.whl (10.0 kB)\n",
      "Installing collected packages: pyroaring, typing-extensions, mmh3, mdurl, cachetools, annotated-types, typing-inspection, strictyaml, pydantic-core, markdown-it-py, rich, pydantic, pyiceberg\n",
      "  Attempting uninstall: typing-extensions\n",
      "    Found existing installation: typing_extensions 4.8.0\n",
      "    Uninstalling typing_extensions-4.8.0:\n",
      "      Successfully uninstalled typing_extensions-4.8.0\n",
      "Successfully installed annotated-types-0.7.0 cachetools-6.2.0 markdown-it-py-4.0.0 mdurl-0.1.2 mmh3-5.2.0 pydantic-2.11.7 pydantic-core-2.33.2 pyiceberg-0.10.0 pyroaring-1.0.2 rich-14.1.0 strictyaml-1.7.3 typing-extensions-4.15.0 typing-inspection-0.4.1\n"
     ]
    }
   ],
   "source": [
    "!pip install --upgrade pyiceberg"
   ]
  },
  {
   "cell_type": "code",
   "execution_count": 2,
   "id": "0d2cffdb-bea3-48d6-b238-e6c2f890c95e",
   "metadata": {},
   "outputs": [
    {
     "name": "stdout",
     "output_type": "stream",
     "text": [
      "Requirement already satisfied: pyiceberg[s3fs,sql-sqlite] in /opt/conda/lib/python3.11/site-packages (0.10.0)\n",
      "Requirement already satisfied: cachetools<7.0,>=5.5 in /opt/conda/lib/python3.11/site-packages (from pyiceberg[s3fs,sql-sqlite]) (6.2.0)\n",
      "Requirement already satisfied: click<9.0.0,>=7.1.1 in /opt/conda/lib/python3.11/site-packages (from pyiceberg[s3fs,sql-sqlite]) (8.1.7)\n",
      "Requirement already satisfied: fsspec>=2023.1.0 in /opt/conda/lib/python3.11/site-packages (from pyiceberg[s3fs,sql-sqlite]) (2025.9.0)\n",
      "Requirement already satisfied: mmh3<6.0.0,>=4.0.0 in /opt/conda/lib/python3.11/site-packages (from pyiceberg[s3fs,sql-sqlite]) (5.2.0)\n",
      "Requirement already satisfied: pydantic!=2.4.0,!=2.4.1,<3.0,>=2.0 in /opt/conda/lib/python3.11/site-packages (from pyiceberg[s3fs,sql-sqlite]) (2.11.7)\n",
      "Requirement already satisfied: pyparsing<4.0.0,>=3.1.0 in /opt/conda/lib/python3.11/site-packages (from pyiceberg[s3fs,sql-sqlite]) (3.1.1)\n",
      "Requirement already satisfied: pyroaring<2.0.0,>=1.0.0 in /opt/conda/lib/python3.11/site-packages (from pyiceberg[s3fs,sql-sqlite]) (1.0.2)\n",
      "Requirement already satisfied: requests<3.0.0,>=2.20.0 in /opt/conda/lib/python3.11/site-packages (from pyiceberg[s3fs,sql-sqlite]) (2.32.3)\n",
      "Requirement already satisfied: rich<15.0.0,>=10.11.0 in /opt/conda/lib/python3.11/site-packages (from pyiceberg[s3fs,sql-sqlite]) (14.1.0)\n",
      "Requirement already satisfied: s3fs>=2023.1.0 in /opt/conda/lib/python3.11/site-packages (from pyiceberg[s3fs,sql-sqlite]) (2025.9.0)\n",
      "Requirement already satisfied: sortedcontainers==2.4.0 in /opt/conda/lib/python3.11/site-packages (from pyiceberg[s3fs,sql-sqlite]) (2.4.0)\n",
      "Requirement already satisfied: sqlalchemy<3.0.0,>=2.0.18 in /opt/conda/lib/python3.11/site-packages (from pyiceberg[s3fs,sql-sqlite]) (2.0.22)\n",
      "Requirement already satisfied: strictyaml<2.0.0,>=1.7.0 in /opt/conda/lib/python3.11/site-packages (from pyiceberg[s3fs,sql-sqlite]) (1.7.3)\n",
      "Requirement already satisfied: tenacity<10.0.0,>=8.2.3 in /opt/conda/lib/python3.11/site-packages (from pyiceberg[s3fs,sql-sqlite]) (9.1.2)\n",
      "Requirement already satisfied: annotated-types>=0.6.0 in /opt/conda/lib/python3.11/site-packages (from pydantic!=2.4.0,!=2.4.1,<3.0,>=2.0->pyiceberg[s3fs,sql-sqlite]) (0.7.0)\n",
      "Requirement already satisfied: pydantic-core==2.33.2 in /opt/conda/lib/python3.11/site-packages (from pydantic!=2.4.0,!=2.4.1,<3.0,>=2.0->pyiceberg[s3fs,sql-sqlite]) (2.33.2)\n",
      "Requirement already satisfied: typing-extensions>=4.12.2 in /opt/conda/lib/python3.11/site-packages (from pydantic!=2.4.0,!=2.4.1,<3.0,>=2.0->pyiceberg[s3fs,sql-sqlite]) (4.15.0)\n",
      "Requirement already satisfied: typing-inspection>=0.4.0 in /opt/conda/lib/python3.11/site-packages (from pydantic!=2.4.0,!=2.4.1,<3.0,>=2.0->pyiceberg[s3fs,sql-sqlite]) (0.4.1)\n",
      "Requirement already satisfied: charset-normalizer<4,>=2 in /opt/conda/lib/python3.11/site-packages (from requests<3.0.0,>=2.20.0->pyiceberg[s3fs,sql-sqlite]) (3.3.0)\n",
      "Requirement already satisfied: idna<4,>=2.5 in /opt/conda/lib/python3.11/site-packages (from requests<3.0.0,>=2.20.0->pyiceberg[s3fs,sql-sqlite]) (3.4)\n",
      "Requirement already satisfied: urllib3<3,>=1.21.1 in /opt/conda/lib/python3.11/site-packages (from requests<3.0.0,>=2.20.0->pyiceberg[s3fs,sql-sqlite]) (2.0.7)\n",
      "Requirement already satisfied: certifi>=2017.4.17 in /opt/conda/lib/python3.11/site-packages (from requests<3.0.0,>=2.20.0->pyiceberg[s3fs,sql-sqlite]) (2023.7.22)\n",
      "Requirement already satisfied: markdown-it-py>=2.2.0 in /opt/conda/lib/python3.11/site-packages (from rich<15.0.0,>=10.11.0->pyiceberg[s3fs,sql-sqlite]) (4.0.0)\n",
      "Requirement already satisfied: pygments<3.0.0,>=2.13.0 in /opt/conda/lib/python3.11/site-packages (from rich<15.0.0,>=10.11.0->pyiceberg[s3fs,sql-sqlite]) (2.16.1)\n",
      "Requirement already satisfied: aiobotocore<3.0.0,>=2.5.4 in /opt/conda/lib/python3.11/site-packages (from s3fs>=2023.1.0->pyiceberg[s3fs,sql-sqlite]) (2.13.3)\n",
      "Requirement already satisfied: aiohttp!=4.0.0a0,!=4.0.0a1 in /opt/conda/lib/python3.11/site-packages (from s3fs>=2023.1.0->pyiceberg[s3fs,sql-sqlite]) (3.12.15)\n",
      "Requirement already satisfied: greenlet!=0.4.17 in /opt/conda/lib/python3.11/site-packages (from sqlalchemy<3.0.0,>=2.0.18->pyiceberg[s3fs,sql-sqlite]) (3.0.0)\n",
      "Requirement already satisfied: python-dateutil>=2.6.0 in /opt/conda/lib/python3.11/site-packages (from strictyaml<2.0.0,>=1.7.0->pyiceberg[s3fs,sql-sqlite]) (2.8.2)\n",
      "Requirement already satisfied: botocore<1.34.163,>=1.34.70 in /opt/conda/lib/python3.11/site-packages (from aiobotocore<3.0.0,>=2.5.4->s3fs>=2023.1.0->pyiceberg[s3fs,sql-sqlite]) (1.34.162)\n",
      "Requirement already satisfied: wrapt<2.0.0,>=1.10.10 in /opt/conda/lib/python3.11/site-packages (from aiobotocore<3.0.0,>=2.5.4->s3fs>=2023.1.0->pyiceberg[s3fs,sql-sqlite]) (1.17.3)\n",
      "Requirement already satisfied: aioitertools<1.0.0,>=0.5.1 in /opt/conda/lib/python3.11/site-packages (from aiobotocore<3.0.0,>=2.5.4->s3fs>=2023.1.0->pyiceberg[s3fs,sql-sqlite]) (0.12.0)\n",
      "Requirement already satisfied: aiohappyeyeballs>=2.5.0 in /opt/conda/lib/python3.11/site-packages (from aiohttp!=4.0.0a0,!=4.0.0a1->s3fs>=2023.1.0->pyiceberg[s3fs,sql-sqlite]) (2.6.1)\n",
      "Requirement already satisfied: aiosignal>=1.4.0 in /opt/conda/lib/python3.11/site-packages (from aiohttp!=4.0.0a0,!=4.0.0a1->s3fs>=2023.1.0->pyiceberg[s3fs,sql-sqlite]) (1.4.0)\n",
      "Requirement already satisfied: attrs>=17.3.0 in /opt/conda/lib/python3.11/site-packages (from aiohttp!=4.0.0a0,!=4.0.0a1->s3fs>=2023.1.0->pyiceberg[s3fs,sql-sqlite]) (23.1.0)\n",
      "Requirement already satisfied: frozenlist>=1.1.1 in /opt/conda/lib/python3.11/site-packages (from aiohttp!=4.0.0a0,!=4.0.0a1->s3fs>=2023.1.0->pyiceberg[s3fs,sql-sqlite]) (1.7.0)\n",
      "Requirement already satisfied: multidict<7.0,>=4.5 in /opt/conda/lib/python3.11/site-packages (from aiohttp!=4.0.0a0,!=4.0.0a1->s3fs>=2023.1.0->pyiceberg[s3fs,sql-sqlite]) (6.6.4)\n",
      "Requirement already satisfied: propcache>=0.2.0 in /opt/conda/lib/python3.11/site-packages (from aiohttp!=4.0.0a0,!=4.0.0a1->s3fs>=2023.1.0->pyiceberg[s3fs,sql-sqlite]) (0.3.2)\n",
      "Requirement already satisfied: yarl<2.0,>=1.17.0 in /opt/conda/lib/python3.11/site-packages (from aiohttp!=4.0.0a0,!=4.0.0a1->s3fs>=2023.1.0->pyiceberg[s3fs,sql-sqlite]) (1.20.1)\n",
      "Requirement already satisfied: mdurl~=0.1 in /opt/conda/lib/python3.11/site-packages (from markdown-it-py>=2.2.0->rich<15.0.0,>=10.11.0->pyiceberg[s3fs,sql-sqlite]) (0.1.2)\n",
      "Requirement already satisfied: six>=1.5 in /opt/conda/lib/python3.11/site-packages (from python-dateutil>=2.6.0->strictyaml<2.0.0,>=1.7.0->pyiceberg[s3fs,sql-sqlite]) (1.16.0)\n",
      "Requirement already satisfied: jmespath<2.0.0,>=0.7.1 in /opt/conda/lib/python3.11/site-packages (from botocore<1.34.163,>=1.34.70->aiobotocore<3.0.0,>=2.5.4->s3fs>=2023.1.0->pyiceberg[s3fs,sql-sqlite]) (1.0.1)\n"
     ]
    }
   ],
   "source": [
    "!pip install pyiceberg[s3fs,sql-sqlite]"
   ]
  },
  {
   "cell_type": "code",
   "execution_count": 3,
   "id": "e2b607bc-0635-446d-9bc6-8058b2d310b0",
   "metadata": {},
   "outputs": [
    {
     "name": "stdout",
     "output_type": "stream",
     "text": [
      "Requirement already satisfied: pyarrow in /opt/conda/lib/python3.11/site-packages (15.0.2)\n",
      "Collecting pyarrow\n",
      "  Downloading pyarrow-21.0.0-cp311-cp311-manylinux_2_28_x86_64.whl.metadata (3.3 kB)\n",
      "Downloading pyarrow-21.0.0-cp311-cp311-manylinux_2_28_x86_64.whl (42.8 MB)\n",
      "\u001b[2K   \u001b[90m━━━━━━━━━━━━━━━━━━━━━━━━━━━━━━━━━━━━━━━━\u001b[0m \u001b[32m42.8/42.8 MB\u001b[0m \u001b[31m3.9 MB/s\u001b[0m eta \u001b[36m0:00:00\u001b[0m00:01\u001b[0m00:01\u001b[0m\n",
      "\u001b[?25hInstalling collected packages: pyarrow\n",
      "  Attempting uninstall: pyarrow\n",
      "    Found existing installation: pyarrow 15.0.2\n",
      "    Uninstalling pyarrow-15.0.2:\n",
      "      Successfully uninstalled pyarrow-15.0.2\n",
      "Successfully installed pyarrow-21.0.0\n"
     ]
    }
   ],
   "source": [
    "!pip install --upgrade pyarrow"
   ]
  },
  {
   "cell_type": "code",
   "execution_count": 4,
   "id": "d2a1c6c9-ea36-4fa5-a9b4-32ffcdbbf430",
   "metadata": {},
   "outputs": [
    {
     "name": "stdout",
     "output_type": "stream",
     "text": [
      "Requirement already satisfied: pandas in /opt/conda/lib/python3.11/site-packages (2.2.2)\n",
      "Requirement already satisfied: numpy>=1.23.2 in /opt/conda/lib/python3.11/site-packages (from pandas) (1.24.4)\n",
      "Requirement already satisfied: python-dateutil>=2.8.2 in /opt/conda/lib/python3.11/site-packages (from pandas) (2.8.2)\n",
      "Requirement already satisfied: pytz>=2020.1 in /opt/conda/lib/python3.11/site-packages (from pandas) (2023.3.post1)\n",
      "Requirement already satisfied: tzdata>=2022.7 in /opt/conda/lib/python3.11/site-packages (from pandas) (2023.3)\n",
      "Requirement already satisfied: six>=1.5 in /opt/conda/lib/python3.11/site-packages (from python-dateutil>=2.8.2->pandas) (1.16.0)\n"
     ]
    }
   ],
   "source": [
    "!pip install pandas"
   ]
  },
  {
   "cell_type": "code",
   "execution_count": 5,
   "id": "06b8ac86-2eda-42ac-97e3-5be3c77c176e",
   "metadata": {},
   "outputs": [],
   "source": [
    "import pyarrow.dataset as ds\n",
    "import pyarrow as pa\n",
    "import pyarrow.parquet as pq\n",
    "import pyarrow.fs as fs"
   ]
  },
  {
   "cell_type": "code",
   "execution_count": 6,
   "id": "4f577f9a",
   "metadata": {},
   "outputs": [],
   "source": [
    "# Crear bucket manualmente antes (usando boto3 o minio client)\n",
    "#import boto3\n",
    "#s3 = boto3.client('s3', \n",
    "                 #endpoint_url='http://minio:9000',\n",
    "                 #aws_access_key_id='admin',\n",
    "                 #aws_secret_access_key='password')\n",
    "#s3.create_bucket(Bucket='new-bucket')"
   ]
  },
  {
   "cell_type": "code",
   "execution_count": 7,
   "id": "3e77e256",
   "metadata": {},
   "outputs": [],
   "source": [
    "minio = fs.S3FileSystem(\n",
    "    access_key=\"admin\",\n",
    "    secret_key=\"password\",\n",
    "    endpoint_override=\"http://minio:9000\",\n",
    ")"
   ]
  },
  {
   "cell_type": "code",
   "execution_count": 8,
   "id": "7c6614aa",
   "metadata": {},
   "outputs": [],
   "source": [
    "path = \"warehouse/yellow_trip_20250912031341/yellow_trip_data\""
   ]
  },
  {
   "cell_type": "code",
   "execution_count": 9,
   "id": "653b5147",
   "metadata": {},
   "outputs": [],
   "source": [
    "dataset_3 = ds.dataset(path, filesystem=minio, format=\"parquet\")"
   ]
  },
  {
   "cell_type": "code",
   "execution_count": 10,
   "id": "13d6ffc8",
   "metadata": {},
   "outputs": [
    {
     "name": "stdout",
     "output_type": "stream",
     "text": [
      "vendor_id: int32\n",
      "tpep_pickup_datetime: timestamp[us]\n",
      "tpep_dropoff_datetime: timestamp[us]\n",
      "passenger_count: int64\n",
      "trip_distance: double\n",
      "ratecode_id: int64\n",
      "store_and_fwd_flag: large_string\n",
      "pu_location_id: int32\n",
      "do_location_id: int32\n",
      "payment_type: int64\n",
      "fare_amount: double\n",
      "extra: double\n",
      "mta_tax: double\n",
      "tip_amount: double\n",
      "tolls_amount: double\n",
      "improvement_surcharge: double\n",
      "total_amount: double\n",
      "congestion_surcharge: double\n",
      "airport_fee: double\n",
      "cbd_congestion_fee: double\n"
     ]
    }
   ],
   "source": [
    "table_3 = dataset_3.to_table()\n",
    "print(table_3.schema)"
   ]
  },
  {
   "cell_type": "code",
   "execution_count": 11,
   "id": "e18c6709",
   "metadata": {},
   "outputs": [
    {
     "name": "stdout",
     "output_type": "stream",
     "text": [
      "<FileInfo for 'warehouse/yellow_trip_20250912031341/yellow_trip_data': type=FileType.Directory>\n",
      "<FileInfo for 'taxis/taxis_parquet/df_data': type=FileType.NotFound>\n"
     ]
    }
   ],
   "source": [
    "for file_info in minio.get_file_info([path, \"taxis/taxis_parquet/df_data\"]):\n",
    "    print(file_info)\n"
   ]
  },
  {
   "cell_type": "code",
   "execution_count": 12,
   "id": "c8519b8b",
   "metadata": {},
   "outputs": [
    {
     "name": "stdout",
     "output_type": "stream",
     "text": [
      "vendor_id: int32\n",
      "tpep_pickup_datetime: timestamp[us]\n",
      "tpep_dropoff_datetime: timestamp[us]\n",
      "passenger_count: int64\n",
      "trip_distance: double\n",
      "ratecode_id: int64\n",
      "store_and_fwd_flag: large_string\n",
      "pu_location_id: int32\n",
      "do_location_id: int32\n",
      "payment_type: int64\n",
      "fare_amount: double\n",
      "extra: double\n",
      "mta_tax: double\n",
      "tip_amount: double\n",
      "tolls_amount: double\n",
      "improvement_surcharge: double\n",
      "total_amount: double\n",
      "congestion_surcharge: double\n",
      "airport_fee: double\n",
      "cbd_congestion_fee: double\n"
     ]
    }
   ],
   "source": [
    "arrow_schema = table_3.schema\n",
    "print(arrow_schema)"
   ]
  },
  {
   "cell_type": "code",
   "execution_count": 13,
   "id": "02430c59",
   "metadata": {},
   "outputs": [],
   "source": [
    "from pyiceberg.catalog import load_catalog\n",
    "\n",
    "catalog = load_catalog(\n",
    "    \"nessie\",\n",
    "    **{\n",
    "        \"uri\": \"http://nessie:19120/iceberg/main/\",\n",
    "    },\n",
    ")\n"
   ]
  },
  {
   "cell_type": "code",
   "execution_count": 14,
   "id": "533ac104-640f-43cc-b6a0-bf74c576e231",
   "metadata": {},
   "outputs": [
    {
     "name": "stdout",
     "output_type": "stream",
     "text": [
      "{'rest-metrics-reporting-enabled': 'false', 'warehouse': 's3://my-bucket', 'client.region': 'us-east-1', 'io-impl': 'org.apache.iceberg.aws.s3.S3FileIO', 'rest-page-size': '200', 'prefix': 'main', 'uri': 'http://nessie:19120/iceberg/', 's3.endpoint': 'http://minio:9000/', 's3.path-style-access': 'true', 'nessie.core-base-uri': 'http://nessie:19120/api/', 'nessie.catalog-base-uri': 'http://nessie:19120/catalog/v1/', 'nessie.iceberg-base-uri': 'http://nessie:19120/iceberg/', 'nessie.is-nessie-catalog': 'true', 'nessie.prefix-pattern': '{ref}|{warehouse}', 'nessie.default-branch.name': 'main'}\n"
     ]
    }
   ],
   "source": [
    "print(catalog.properties)"
   ]
  },
  {
   "cell_type": "code",
   "execution_count": 15,
   "id": "8a4bdbff",
   "metadata": {},
   "outputs": [
    {
     "name": "stdout",
     "output_type": "stream",
     "text": [
      "[]\n"
     ]
    }
   ],
   "source": [
    "namespaces = catalog.list_namespaces()\n",
    "print(namespaces)\n"
   ]
  },
  {
   "cell_type": "code",
   "execution_count": 16,
   "id": "713a0521",
   "metadata": {},
   "outputs": [
    {
     "name": "stdout",
     "output_type": "stream",
     "text": [
      "[('taxis',)]\n"
     ]
    }
   ],
   "source": [
    "catalog.create_namespace(\"taxis\")\n",
    "\n",
    "namespaces = catalog.list_namespaces()\n",
    "print(namespaces)"
   ]
  },
  {
   "cell_type": "code",
   "execution_count": 17,
   "id": "d039ad69",
   "metadata": {},
   "outputs": [
    {
     "data": {
      "text/plain": [
       "taxis_iceberg(\n",
       "  1: vendor_id: optional int,\n",
       "  2: tpep_pickup_datetime: optional timestamp,\n",
       "  3: tpep_dropoff_datetime: optional timestamp,\n",
       "  4: passenger_count: optional long,\n",
       "  5: trip_distance: optional double,\n",
       "  6: ratecode_id: optional long,\n",
       "  7: store_and_fwd_flag: optional string,\n",
       "  8: pu_location_id: optional int,\n",
       "  9: do_location_id: optional int,\n",
       "  10: payment_type: optional long,\n",
       "  11: fare_amount: optional double,\n",
       "  12: extra: optional double,\n",
       "  13: mta_tax: optional double,\n",
       "  14: tip_amount: optional double,\n",
       "  15: tolls_amount: optional double,\n",
       "  16: improvement_surcharge: optional double,\n",
       "  17: total_amount: optional double,\n",
       "  18: congestion_surcharge: optional double,\n",
       "  19: airport_fee: optional double,\n",
       "  20: cbd_congestion_fee: optional double\n",
       "),\n",
       "partition by: [],\n",
       "sort order: [],\n",
       "snapshot: null"
      ]
     },
     "execution_count": 17,
     "metadata": {},
     "output_type": "execute_result"
    }
   ],
   "source": [
    "catalog.create_table(\n",
    "    \"taxis.taxis_iceberg\", \n",
    "    arrow_schema,\n",
    ")"
   ]
  },
  {
   "cell_type": "code",
   "execution_count": 18,
   "id": "14225a5c",
   "metadata": {},
   "outputs": [],
   "source": [
    "taxis_iceberg = catalog.load_table(\"taxis.taxis_iceberg\")\n",
    "taxis_iceberg.append(table_3)"
   ]
  },
  {
   "cell_type": "code",
   "execution_count": 19,
   "id": "2c1bb9d2-7703-4800-b19d-0233723cb5e4",
   "metadata": {},
   "outputs": [
    {
     "name": "stdout",
     "output_type": "stream",
     "text": [
      "Ubicación real: <bound method Table.location of taxis_iceberg(\n",
      "  1: vendor_id: optional int,\n",
      "  2: tpep_pickup_datetime: optional timestamp,\n",
      "  3: tpep_dropoff_datetime: optional timestamp,\n",
      "  4: passenger_count: optional long,\n",
      "  5: trip_distance: optional double,\n",
      "  6: ratecode_id: optional long,\n",
      "  7: store_and_fwd_flag: optional string,\n",
      "  8: pu_location_id: optional int,\n",
      "  9: do_location_id: optional int,\n",
      "  10: payment_type: optional long,\n",
      "  11: fare_amount: optional double,\n",
      "  12: extra: optional double,\n",
      "  13: mta_tax: optional double,\n",
      "  14: tip_amount: optional double,\n",
      "  15: tolls_amount: optional double,\n",
      "  16: improvement_surcharge: optional double,\n",
      "  17: total_amount: optional double,\n",
      "  18: congestion_surcharge: optional double,\n",
      "  19: airport_fee: optional double,\n",
      "  20: cbd_congestion_fee: optional double\n",
      "),\n",
      "partition by: [],\n",
      "sort order: [],\n",
      "snapshot: Operation.APPEND: id=6019170165029696754, schema_id=0>\n"
     ]
    }
   ],
   "source": [
    "# Después de crear la tabla, verifica dónde quedó\n",
    "#taxis_iceberg = catalog.load_table(\"taxis.taxis_iceberg\")\n",
    "print(f\"Ubicación real: {taxis_iceberg.location}\")"
   ]
  },
  {
   "cell_type": "code",
   "execution_count": 20,
   "id": "6b93939c-66d0-4066-a46a-0671c485d54f",
   "metadata": {},
   "outputs": [
    {
     "name": "stdout",
     "output_type": "stream",
     "text": [
      "{'rest-metrics-reporting-enabled': 'false', 'warehouse': 's3://my-bucket', 'client.region': 'us-east-1', 'io-impl': 'org.apache.iceberg.aws.s3.S3FileIO', 'rest-page-size': '200', 'prefix': 'main', 'uri': 'http://nessie:19120/iceberg/', 's3.endpoint': 'http://minio:9000/', 's3.path-style-access': 'true', 'nessie.core-base-uri': 'http://nessie:19120/api/', 'nessie.catalog-base-uri': 'http://nessie:19120/catalog/v1/', 'nessie.iceberg-base-uri': 'http://nessie:19120/iceberg/', 'nessie.is-nessie-catalog': 'true', 'nessie.prefix-pattern': '{ref}|{warehouse}', 'nessie.default-branch.name': 'main'}\n"
     ]
    }
   ],
   "source": [
    "print(catalog.properties)"
   ]
  },
  {
   "cell_type": "code",
   "execution_count": null,
   "id": "3dc73b43-f25b-4658-b500-36c0b664ef42",
   "metadata": {},
   "outputs": [],
   "source": []
  }
 ],
 "metadata": {
  "kernelspec": {
   "display_name": "Python 3 (ipykernel)",
   "language": "python",
   "name": "python3"
  },
  "language_info": {
   "codemirror_mode": {
    "name": "ipython",
    "version": 3
   },
   "file_extension": ".py",
   "mimetype": "text/x-python",
   "name": "python",
   "nbconvert_exporter": "python",
   "pygments_lexer": "ipython3",
   "version": "3.11.6"
  }
 },
 "nbformat": 4,
 "nbformat_minor": 5
}
