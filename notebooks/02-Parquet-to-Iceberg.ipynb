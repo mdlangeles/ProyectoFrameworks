{
 "cells": [
  {
   "cell_type": "code",
   "execution_count": 72,
   "id": "a65ce405",
   "metadata": {},
   "outputs": [
    {
     "name": "stdout",
     "output_type": "stream",
     "text": [
      "Requirement already satisfied: pyiceberg in /opt/conda/lib/python3.11/site-packages (0.9.1)\n",
      "Requirement already satisfied: cachetools<6.0.0,>=5.5.0 in /opt/conda/lib/python3.11/site-packages (from pyiceberg) (5.5.2)\n",
      "Requirement already satisfied: click<9.0.0,>=7.1.1 in /opt/conda/lib/python3.11/site-packages (from pyiceberg) (8.1.7)\n",
      "Requirement already satisfied: fsspec>=2023.1.0 in /opt/conda/lib/python3.11/site-packages (from pyiceberg) (2025.9.0)\n",
      "Requirement already satisfied: mmh3<6.0.0,>=4.0.0 in /opt/conda/lib/python3.11/site-packages (from pyiceberg) (5.2.0)\n",
      "Requirement already satisfied: pydantic!=2.4.0,!=2.4.1,<3.0,>=2.0 in /opt/conda/lib/python3.11/site-packages (from pyiceberg) (2.11.7)\n",
      "Requirement already satisfied: pyparsing<4.0.0,>=3.1.0 in /opt/conda/lib/python3.11/site-packages (from pyiceberg) (3.1.1)\n",
      "Requirement already satisfied: requests<3.0.0,>=2.20.0 in /opt/conda/lib/python3.11/site-packages (from pyiceberg) (2.32.3)\n",
      "Requirement already satisfied: rich<14.0.0,>=10.11.0 in /opt/conda/lib/python3.11/site-packages (from pyiceberg) (13.9.4)\n",
      "Requirement already satisfied: sortedcontainers==2.4.0 in /opt/conda/lib/python3.11/site-packages (from pyiceberg) (2.4.0)\n",
      "Requirement already satisfied: strictyaml<2.0.0,>=1.7.0 in /opt/conda/lib/python3.11/site-packages (from pyiceberg) (1.7.3)\n",
      "Requirement already satisfied: tenacity<10.0.0,>=8.2.3 in /opt/conda/lib/python3.11/site-packages (from pyiceberg) (9.1.2)\n",
      "Requirement already satisfied: annotated-types>=0.6.0 in /opt/conda/lib/python3.11/site-packages (from pydantic!=2.4.0,!=2.4.1,<3.0,>=2.0->pyiceberg) (0.7.0)\n",
      "Requirement already satisfied: pydantic-core==2.33.2 in /opt/conda/lib/python3.11/site-packages (from pydantic!=2.4.0,!=2.4.1,<3.0,>=2.0->pyiceberg) (2.33.2)\n",
      "Requirement already satisfied: typing-extensions>=4.12.2 in /opt/conda/lib/python3.11/site-packages (from pydantic!=2.4.0,!=2.4.1,<3.0,>=2.0->pyiceberg) (4.15.0)\n",
      "Requirement already satisfied: typing-inspection>=0.4.0 in /opt/conda/lib/python3.11/site-packages (from pydantic!=2.4.0,!=2.4.1,<3.0,>=2.0->pyiceberg) (0.4.1)\n",
      "Requirement already satisfied: charset-normalizer<4,>=2 in /opt/conda/lib/python3.11/site-packages (from requests<3.0.0,>=2.20.0->pyiceberg) (3.3.0)\n",
      "Requirement already satisfied: idna<4,>=2.5 in /opt/conda/lib/python3.11/site-packages (from requests<3.0.0,>=2.20.0->pyiceberg) (3.4)\n",
      "Requirement already satisfied: urllib3<3,>=1.21.1 in /opt/conda/lib/python3.11/site-packages (from requests<3.0.0,>=2.20.0->pyiceberg) (2.0.7)\n",
      "Requirement already satisfied: certifi>=2017.4.17 in /opt/conda/lib/python3.11/site-packages (from requests<3.0.0,>=2.20.0->pyiceberg) (2023.7.22)\n",
      "Requirement already satisfied: markdown-it-py>=2.2.0 in /opt/conda/lib/python3.11/site-packages (from rich<14.0.0,>=10.11.0->pyiceberg) (4.0.0)\n",
      "Requirement already satisfied: pygments<3.0.0,>=2.13.0 in /opt/conda/lib/python3.11/site-packages (from rich<14.0.0,>=10.11.0->pyiceberg) (2.16.1)\n",
      "Requirement already satisfied: python-dateutil>=2.6.0 in /opt/conda/lib/python3.11/site-packages (from strictyaml<2.0.0,>=1.7.0->pyiceberg) (2.8.2)\n",
      "Requirement already satisfied: mdurl~=0.1 in /opt/conda/lib/python3.11/site-packages (from markdown-it-py>=2.2.0->rich<14.0.0,>=10.11.0->pyiceberg) (0.1.2)\n",
      "Requirement already satisfied: six>=1.5 in /opt/conda/lib/python3.11/site-packages (from python-dateutil>=2.6.0->strictyaml<2.0.0,>=1.7.0->pyiceberg) (1.16.0)\n",
      "Note: you may need to restart the kernel to use updated packages.\n"
     ]
    }
   ],
   "source": [
    "pip install pyiceberg"
   ]
  },
  {
   "cell_type": "code",
   "execution_count": 73,
   "id": "a399dd6b-4499-4061-a378-e27a5da3edc9",
   "metadata": {},
   "outputs": [
    {
     "name": "stdout",
     "output_type": "stream",
     "text": [
      "Requirement already satisfied: pyiceberg[s3fs,sql-sqlite] in /opt/conda/lib/python3.11/site-packages (0.9.1)\n",
      "Requirement already satisfied: cachetools<6.0.0,>=5.5.0 in /opt/conda/lib/python3.11/site-packages (from pyiceberg[s3fs,sql-sqlite]) (5.5.2)\n",
      "Requirement already satisfied: click<9.0.0,>=7.1.1 in /opt/conda/lib/python3.11/site-packages (from pyiceberg[s3fs,sql-sqlite]) (8.1.7)\n",
      "Requirement already satisfied: fsspec>=2023.1.0 in /opt/conda/lib/python3.11/site-packages (from pyiceberg[s3fs,sql-sqlite]) (2025.9.0)\n",
      "Requirement already satisfied: mmh3<6.0.0,>=4.0.0 in /opt/conda/lib/python3.11/site-packages (from pyiceberg[s3fs,sql-sqlite]) (5.2.0)\n",
      "Requirement already satisfied: pydantic!=2.4.0,!=2.4.1,<3.0,>=2.0 in /opt/conda/lib/python3.11/site-packages (from pyiceberg[s3fs,sql-sqlite]) (2.11.7)\n",
      "Requirement already satisfied: pyparsing<4.0.0,>=3.1.0 in /opt/conda/lib/python3.11/site-packages (from pyiceberg[s3fs,sql-sqlite]) (3.1.1)\n",
      "Requirement already satisfied: requests<3.0.0,>=2.20.0 in /opt/conda/lib/python3.11/site-packages (from pyiceberg[s3fs,sql-sqlite]) (2.32.3)\n",
      "Requirement already satisfied: rich<14.0.0,>=10.11.0 in /opt/conda/lib/python3.11/site-packages (from pyiceberg[s3fs,sql-sqlite]) (13.9.4)\n",
      "Requirement already satisfied: s3fs>=2023.1.0 in /opt/conda/lib/python3.11/site-packages (from pyiceberg[s3fs,sql-sqlite]) (2025.9.0)\n",
      "Requirement already satisfied: sortedcontainers==2.4.0 in /opt/conda/lib/python3.11/site-packages (from pyiceberg[s3fs,sql-sqlite]) (2.4.0)\n",
      "Requirement already satisfied: sqlalchemy<3.0.0,>=2.0.18 in /opt/conda/lib/python3.11/site-packages (from pyiceberg[s3fs,sql-sqlite]) (2.0.22)\n",
      "Requirement already satisfied: strictyaml<2.0.0,>=1.7.0 in /opt/conda/lib/python3.11/site-packages (from pyiceberg[s3fs,sql-sqlite]) (1.7.3)\n",
      "Requirement already satisfied: tenacity<10.0.0,>=8.2.3 in /opt/conda/lib/python3.11/site-packages (from pyiceberg[s3fs,sql-sqlite]) (9.1.2)\n",
      "Requirement already satisfied: annotated-types>=0.6.0 in /opt/conda/lib/python3.11/site-packages (from pydantic!=2.4.0,!=2.4.1,<3.0,>=2.0->pyiceberg[s3fs,sql-sqlite]) (0.7.0)\n",
      "Requirement already satisfied: pydantic-core==2.33.2 in /opt/conda/lib/python3.11/site-packages (from pydantic!=2.4.0,!=2.4.1,<3.0,>=2.0->pyiceberg[s3fs,sql-sqlite]) (2.33.2)\n",
      "Requirement already satisfied: typing-extensions>=4.12.2 in /opt/conda/lib/python3.11/site-packages (from pydantic!=2.4.0,!=2.4.1,<3.0,>=2.0->pyiceberg[s3fs,sql-sqlite]) (4.15.0)\n",
      "Requirement already satisfied: typing-inspection>=0.4.0 in /opt/conda/lib/python3.11/site-packages (from pydantic!=2.4.0,!=2.4.1,<3.0,>=2.0->pyiceberg[s3fs,sql-sqlite]) (0.4.1)\n",
      "Requirement already satisfied: charset-normalizer<4,>=2 in /opt/conda/lib/python3.11/site-packages (from requests<3.0.0,>=2.20.0->pyiceberg[s3fs,sql-sqlite]) (3.3.0)\n",
      "Requirement already satisfied: idna<4,>=2.5 in /opt/conda/lib/python3.11/site-packages (from requests<3.0.0,>=2.20.0->pyiceberg[s3fs,sql-sqlite]) (3.4)\n",
      "Requirement already satisfied: urllib3<3,>=1.21.1 in /opt/conda/lib/python3.11/site-packages (from requests<3.0.0,>=2.20.0->pyiceberg[s3fs,sql-sqlite]) (2.0.7)\n",
      "Requirement already satisfied: certifi>=2017.4.17 in /opt/conda/lib/python3.11/site-packages (from requests<3.0.0,>=2.20.0->pyiceberg[s3fs,sql-sqlite]) (2023.7.22)\n",
      "Requirement already satisfied: markdown-it-py>=2.2.0 in /opt/conda/lib/python3.11/site-packages (from rich<14.0.0,>=10.11.0->pyiceberg[s3fs,sql-sqlite]) (4.0.0)\n",
      "Requirement already satisfied: pygments<3.0.0,>=2.13.0 in /opt/conda/lib/python3.11/site-packages (from rich<14.0.0,>=10.11.0->pyiceberg[s3fs,sql-sqlite]) (2.16.1)\n",
      "Requirement already satisfied: aiobotocore<3.0.0,>=2.5.4 in /opt/conda/lib/python3.11/site-packages (from s3fs>=2023.1.0->pyiceberg[s3fs,sql-sqlite]) (2.13.3)\n",
      "Requirement already satisfied: aiohttp!=4.0.0a0,!=4.0.0a1 in /opt/conda/lib/python3.11/site-packages (from s3fs>=2023.1.0->pyiceberg[s3fs,sql-sqlite]) (3.12.15)\n",
      "Requirement already satisfied: greenlet!=0.4.17 in /opt/conda/lib/python3.11/site-packages (from sqlalchemy<3.0.0,>=2.0.18->pyiceberg[s3fs,sql-sqlite]) (3.0.0)\n",
      "Requirement already satisfied: python-dateutil>=2.6.0 in /opt/conda/lib/python3.11/site-packages (from strictyaml<2.0.0,>=1.7.0->pyiceberg[s3fs,sql-sqlite]) (2.8.2)\n",
      "Requirement already satisfied: botocore<1.34.163,>=1.34.70 in /opt/conda/lib/python3.11/site-packages (from aiobotocore<3.0.0,>=2.5.4->s3fs>=2023.1.0->pyiceberg[s3fs,sql-sqlite]) (1.34.162)\n",
      "Requirement already satisfied: wrapt<2.0.0,>=1.10.10 in /opt/conda/lib/python3.11/site-packages (from aiobotocore<3.0.0,>=2.5.4->s3fs>=2023.1.0->pyiceberg[s3fs,sql-sqlite]) (1.17.3)\n",
      "Requirement already satisfied: aioitertools<1.0.0,>=0.5.1 in /opt/conda/lib/python3.11/site-packages (from aiobotocore<3.0.0,>=2.5.4->s3fs>=2023.1.0->pyiceberg[s3fs,sql-sqlite]) (0.12.0)\n",
      "Requirement already satisfied: aiohappyeyeballs>=2.5.0 in /opt/conda/lib/python3.11/site-packages (from aiohttp!=4.0.0a0,!=4.0.0a1->s3fs>=2023.1.0->pyiceberg[s3fs,sql-sqlite]) (2.6.1)\n",
      "Requirement already satisfied: aiosignal>=1.4.0 in /opt/conda/lib/python3.11/site-packages (from aiohttp!=4.0.0a0,!=4.0.0a1->s3fs>=2023.1.0->pyiceberg[s3fs,sql-sqlite]) (1.4.0)\n",
      "Requirement already satisfied: attrs>=17.3.0 in /opt/conda/lib/python3.11/site-packages (from aiohttp!=4.0.0a0,!=4.0.0a1->s3fs>=2023.1.0->pyiceberg[s3fs,sql-sqlite]) (23.1.0)\n",
      "Requirement already satisfied: frozenlist>=1.1.1 in /opt/conda/lib/python3.11/site-packages (from aiohttp!=4.0.0a0,!=4.0.0a1->s3fs>=2023.1.0->pyiceberg[s3fs,sql-sqlite]) (1.7.0)\n",
      "Requirement already satisfied: multidict<7.0,>=4.5 in /opt/conda/lib/python3.11/site-packages (from aiohttp!=4.0.0a0,!=4.0.0a1->s3fs>=2023.1.0->pyiceberg[s3fs,sql-sqlite]) (6.6.4)\n",
      "Requirement already satisfied: propcache>=0.2.0 in /opt/conda/lib/python3.11/site-packages (from aiohttp!=4.0.0a0,!=4.0.0a1->s3fs>=2023.1.0->pyiceberg[s3fs,sql-sqlite]) (0.3.2)\n",
      "Requirement already satisfied: yarl<2.0,>=1.17.0 in /opt/conda/lib/python3.11/site-packages (from aiohttp!=4.0.0a0,!=4.0.0a1->s3fs>=2023.1.0->pyiceberg[s3fs,sql-sqlite]) (1.20.1)\n",
      "Requirement already satisfied: mdurl~=0.1 in /opt/conda/lib/python3.11/site-packages (from markdown-it-py>=2.2.0->rich<14.0.0,>=10.11.0->pyiceberg[s3fs,sql-sqlite]) (0.1.2)\n",
      "Requirement already satisfied: six>=1.5 in /opt/conda/lib/python3.11/site-packages (from python-dateutil>=2.6.0->strictyaml<2.0.0,>=1.7.0->pyiceberg[s3fs,sql-sqlite]) (1.16.0)\n",
      "Requirement already satisfied: jmespath<2.0.0,>=0.7.1 in /opt/conda/lib/python3.11/site-packages (from botocore<1.34.163,>=1.34.70->aiobotocore<3.0.0,>=2.5.4->s3fs>=2023.1.0->pyiceberg[s3fs,sql-sqlite]) (1.0.1)\n"
     ]
    }
   ],
   "source": [
    "!pip install pyiceberg[s3fs,sql-sqlite]"
   ]
  },
  {
   "cell_type": "code",
   "execution_count": 74,
   "id": "2d911a11",
   "metadata": {},
   "outputs": [
    {
     "name": "stdout",
     "output_type": "stream",
     "text": [
      "Requirement already satisfied: pyarrow in /opt/conda/lib/python3.11/site-packages (15.0.2)\n",
      "Requirement already satisfied: numpy<2,>=1.16.6 in /opt/conda/lib/python3.11/site-packages (from pyarrow) (1.24.4)\n",
      "Note: you may need to restart the kernel to use updated packages.\n"
     ]
    }
   ],
   "source": [
    "pip install pyarrow"
   ]
  },
  {
   "cell_type": "code",
   "execution_count": 75,
   "id": "0ea9c085",
   "metadata": {},
   "outputs": [
    {
     "name": "stdout",
     "output_type": "stream",
     "text": [
      "Requirement already satisfied: pandas in /opt/conda/lib/python3.11/site-packages (2.2.2)\n",
      "Requirement already satisfied: numpy>=1.23.2 in /opt/conda/lib/python3.11/site-packages (from pandas) (1.24.4)\n",
      "Requirement already satisfied: python-dateutil>=2.8.2 in /opt/conda/lib/python3.11/site-packages (from pandas) (2.8.2)\n",
      "Requirement already satisfied: pytz>=2020.1 in /opt/conda/lib/python3.11/site-packages (from pandas) (2023.3.post1)\n",
      "Requirement already satisfied: tzdata>=2022.7 in /opt/conda/lib/python3.11/site-packages (from pandas) (2023.3)\n",
      "Requirement already satisfied: six>=1.5 in /opt/conda/lib/python3.11/site-packages (from python-dateutil>=2.8.2->pandas) (1.16.0)\n",
      "Note: you may need to restart the kernel to use updated packages.\n"
     ]
    }
   ],
   "source": [
    "pip install pandas"
   ]
  },
  {
   "cell_type": "markdown",
   "id": "409819c1",
   "metadata": {},
   "source": [
    "LEER DESDE MINIO"
   ]
  },
  {
   "cell_type": "code",
   "execution_count": 76,
   "id": "124d9c1e",
   "metadata": {},
   "outputs": [],
   "source": [
    "import pyarrow as pa\n",
    "import pyarrow.parquet as pq\n",
    "import pyarrow.dataset as ds\n",
    "import pyarrow.fs as fs\n",
    "import os\n",
    "import io\n",
    "import requests\n",
    "import pandas as pd\n",
    "import pyarrow as pa\n",
    "import pyarrow.parquet as pq\n",
    "import pyarrow.fs as pafs\n",
    "import dlt"
   ]
  },
  {
   "cell_type": "code",
   "execution_count": 77,
   "id": "734bb1ac",
   "metadata": {},
   "outputs": [],
   "source": [
    "import pyarrow.fs as fs\n",
    "\n",
    "minio = fs.S3FileSystem(\n",
    "    access_key=\"admin\",\n",
    "    secret_key=\"password\",\n",
    "    endpoint_override=\"http://minio:9000\",\n",
    "    scheme=\"http\"\n",
    ")\n"
   ]
  },
  {
   "cell_type": "code",
   "execution_count": 78,
   "id": "8da891f4",
   "metadata": {},
   "outputs": [],
   "source": [
    "path = \"warehouse/yellow_trip_20250911020326/yellow_trip_data\""
   ]
  },
  {
   "cell_type": "code",
   "execution_count": 79,
   "id": "256393cd-ee56-4fd2-9995-b53bc87b6566",
   "metadata": {},
   "outputs": [],
   "source": [
    "dataset = ds.dataset(path, filesystem=minio, format= \"parquet\")"
   ]
  },
  {
   "cell_type": "code",
   "execution_count": 80,
   "id": "868dd9e5-590d-4a4e-9c58-a08717a09d29",
   "metadata": {},
   "outputs": [
    {
     "name": "stdout",
     "output_type": "stream",
     "text": [
      "vendor_id: int32\n",
      "tpep_pickup_datetime: timestamp[us]\n",
      "tpep_dropoff_datetime: timestamp[us]\n",
      "passenger_count: int64\n",
      "trip_distance: double\n",
      "ratecode_id: int64\n",
      "store_and_fwd_flag: large_string\n",
      "pu_location_id: int32\n",
      "do_location_id: int32\n",
      "payment_type: int64\n",
      "fare_amount: double\n",
      "extra: double\n",
      "mta_tax: double\n",
      "tip_amount: double\n",
      "tolls_amount: double\n",
      "improvement_surcharge: double\n",
      "total_amount: double\n",
      "congestion_surcharge: double\n",
      "airport_fee: double\n",
      "cbd_congestion_fee: double\n"
     ]
    }
   ],
   "source": [
    "table = dataset.to_table()\n",
    "print(table.schema)"
   ]
  },
  {
   "cell_type": "code",
   "execution_count": 81,
   "id": "e73c0d39-5efe-4a16-b27d-9e99f69a4a08",
   "metadata": {},
   "outputs": [],
   "source": [
    "import pyarrow as pa\n",
    "\n",
    "arrow_schema = pa.schema([\n",
    "    ('vendor_id', pa.int32()),\n",
    "    ('tpep_pickup_datetime', pa.timestamp('us')),\n",
    "    ('tpep_dropoff_datetime', pa.timestamp('us')),\n",
    "    ('passenger_count', pa.int64()),\n",
    "    ('trip_distance', pa.float64()),\n",
    "    ('ratecode_id', pa.int64()),\n",
    "    ('store_and_fwd_flag', pa.string()),          # large_string -> pa.string()\n",
    "    ('pu_location_id', pa.int32()),\n",
    "    ('do_location_id', pa.int32()),\n",
    "    ('payment_type', pa.int64()),\n",
    "    ('fare_amount', pa.float64()),\n",
    "    ('extra', pa.float64()),\n",
    "    ('mta_tax', pa.float64()),\n",
    "    ('tip_amount', pa.float64()),\n",
    "    ('tolls_amount', pa.float64()),\n",
    "    ('improvement_surcharge', pa.float64()),\n",
    "    ('total_amount', pa.float64()),\n",
    "    ('congestion_surcharge', pa.float64()),\n",
    "    ('airport_fee', pa.float64()),\n",
    "    ('cbd_congestion_fee', pa.float64())\n",
    "])\n"
   ]
  },
  {
   "cell_type": "code",
   "execution_count": 82,
   "id": "0c3b0b58-3cd4-4939-8a9a-d84b4ca2bcdd",
   "metadata": {},
   "outputs": [],
   "source": [
    "from pyiceberg.catalog import load_catalog\n",
    "\n",
    "catalog = load_catalog(\n",
    "    \"nessie\",\n",
    "    **{\n",
    "        \"uri\": \"http://nessie:19120/iceberg/main\",   # nombre del servicio en compose        # bucket en MinIO\n",
    "    }\n",
    ")\n"
   ]
  },
  {
   "cell_type": "code",
   "execution_count": 83,
   "id": "7a40cbd5-67e5-419a-9951-c95d25347ba4",
   "metadata": {},
   "outputs": [
    {
     "name": "stdout",
     "output_type": "stream",
     "text": [
      "Namespaces: [('project',)]\n"
     ]
    }
   ],
   "source": [
    "namespaces = catalog.list_namespaces()\n",
    "print(\"Namespaces:\", namespaces)"
   ]
  },
  {
   "cell_type": "code",
   "execution_count": 14,
   "id": "7932d84c-b01a-4566-b6f4-1e5d8924f165",
   "metadata": {},
   "outputs": [],
   "source": [
    "catalog.create_namespace(\"project\")"
   ]
  },
  {
   "cell_type": "code",
   "execution_count": 84,
   "id": "44f41967-cea9-4702-b743-1adcec413949",
   "metadata": {},
   "outputs": [
    {
     "name": "stdout",
     "output_type": "stream",
     "text": [
      "Namespaces: [('project',)]\n"
     ]
    }
   ],
   "source": [
    "namespaces = catalog.list_namespaces()\n",
    "print(\"Namespaces:\", namespaces)"
   ]
  },
  {
   "cell_type": "code",
   "execution_count": 85,
   "id": "50098632-3d41-4143-a611-42bfc3839f58",
   "metadata": {},
   "outputs": [],
   "source": [
    "import boto3\n",
    "s3 = boto3.resource(\n",
    "    's3',\n",
    "    endpoint_url=\"http://minio:9000\",  # tu endpoint de MinIO\n",
    "    aws_access_key_id='admin',             # tu access key\n",
    "    aws_secret_access_key='password'       # tu secret key\n",
    ")"
   ]
  },
  {
   "cell_type": "code",
   "execution_count": 87,
   "id": "8693b55b-49b0-4472-a7cd-c31ba2a9c5ba",
   "metadata": {},
   "outputs": [
    {
     "data": {
      "text/plain": [
       "projecticeberg2(\n",
       "  1: vendor_id: optional int,\n",
       "  2: tpep_pickup_datetime: optional timestamp,\n",
       "  3: tpep_dropoff_datetime: optional timestamp,\n",
       "  4: passenger_count: optional long,\n",
       "  5: trip_distance: optional double,\n",
       "  6: ratecode_id: optional long,\n",
       "  7: store_and_fwd_flag: optional string,\n",
       "  8: pu_location_id: optional int,\n",
       "  9: do_location_id: optional int,\n",
       "  10: payment_type: optional long,\n",
       "  11: fare_amount: optional double,\n",
       "  12: extra: optional double,\n",
       "  13: mta_tax: optional double,\n",
       "  14: tip_amount: optional double,\n",
       "  15: tolls_amount: optional double,\n",
       "  16: improvement_surcharge: optional double,\n",
       "  17: total_amount: optional double,\n",
       "  18: congestion_surcharge: optional double,\n",
       "  19: airport_fee: optional double,\n",
       "  20: cbd_congestion_fee: optional double\n",
       "),\n",
       "partition by: [],\n",
       "sort order: [],\n",
       "snapshot: null"
      ]
     },
     "execution_count": 87,
     "metadata": {},
     "output_type": "execute_result"
    }
   ],
   "source": [
    "# -----------------------\n",
    "# Crear tabla Iceberg apuntando a MinIO\n",
    "# -----------------------\n",
    "catalog.create_table(\n",
    "    \"project.projecticeberg2\",\n",
    "    schema=arrow_schema,\n",
    "    location=\"s3://projecticeberg/projecticeberg\",  # Ruta en MinIO\n",
    "    properties={\n",
    "        \"fs.s3a.endpoint\": \"http://minio:9000\",\n",
    "        \"fs.s3a.access.key\": \"admin\",\n",
    "        \"fs.s3a.secret.key\": \"password\",\n",
    "        \"fs.s3a.path.style.access\": \"true\"\n",
    "    }\n",
    ")"
   ]
  },
  {
   "cell_type": "code",
   "execution_count": 23,
   "id": "edcbf343-e5f4-4275-bd3e-539b73db5a3e",
   "metadata": {},
   "outputs": [],
   "source": [
    "# catalog.create_table(\"project.project_iceberg\", schema =arrow_schema)"
   ]
  },
  {
   "cell_type": "code",
   "execution_count": 88,
   "id": "03a42b81-cf3c-4986-8c75-ba8efbbfba76",
   "metadata": {},
   "outputs": [],
   "source": [
    "#cargar tabla iceberg y hacemos el append\n",
    "project= catalog.load_table(\"project.projecticeberg2\")"
   ]
  },
  {
   "cell_type": "code",
   "execution_count": 89,
   "id": "671f1aa4-371e-41a5-a0d3-941c9c85771f",
   "metadata": {},
   "outputs": [],
   "source": [
    "project.append(table)"
   ]
  },
  {
   "cell_type": "markdown",
   "id": "c2b3c247-aa0f-4309-aa5e-90d9218ace48",
   "metadata": {},
   "source": [
    "CONSULTAR DATOS"
   ]
  },
  {
   "cell_type": "code",
   "execution_count": 21,
   "id": "c62736b8-66f0-4b64-9a6b-8dd64e64f473",
   "metadata": {},
   "outputs": [
    {
     "name": "stdout",
     "output_type": "stream",
     "text": [
      "Datos leidos desde Iceberg: \n",
      "Total de filas:  3475226\n"
     ]
    }
   ],
   "source": [
    "#Escaneamos la tabla y la traemos a arrow\n",
    "\n",
    "result_arrow = project.scan().to_arrow()\n",
    "\n",
    "resultdf = result_arrow.to_pandas()\n",
    "\n",
    "print(\"Datos leidos desde Iceberg: \")\n",
    "print(\"Total de filas: \", len(resultdf))"
   ]
  },
  {
   "cell_type": "code",
   "execution_count": 90,
   "id": "71990f63-8902-44b5-bc80-2db144a3fb71",
   "metadata": {},
   "outputs": [
    {
     "data": {
      "text/html": [
       "<div>\n",
       "<style scoped>\n",
       "    .dataframe tbody tr th:only-of-type {\n",
       "        vertical-align: middle;\n",
       "    }\n",
       "\n",
       "    .dataframe tbody tr th {\n",
       "        vertical-align: top;\n",
       "    }\n",
       "\n",
       "    .dataframe thead th {\n",
       "        text-align: right;\n",
       "    }\n",
       "</style>\n",
       "<table border=\"1\" class=\"dataframe\">\n",
       "  <thead>\n",
       "    <tr style=\"text-align: right;\">\n",
       "      <th></th>\n",
       "      <th>vendor_id</th>\n",
       "      <th>tpep_pickup_datetime</th>\n",
       "      <th>tpep_dropoff_datetime</th>\n",
       "      <th>passenger_count</th>\n",
       "      <th>trip_distance</th>\n",
       "      <th>ratecode_id</th>\n",
       "      <th>store_and_fwd_flag</th>\n",
       "      <th>pu_location_id</th>\n",
       "      <th>do_location_id</th>\n",
       "      <th>payment_type</th>\n",
       "      <th>fare_amount</th>\n",
       "      <th>extra</th>\n",
       "      <th>mta_tax</th>\n",
       "      <th>tip_amount</th>\n",
       "      <th>tolls_amount</th>\n",
       "      <th>improvement_surcharge</th>\n",
       "      <th>total_amount</th>\n",
       "      <th>congestion_surcharge</th>\n",
       "      <th>airport_fee</th>\n",
       "      <th>cbd_congestion_fee</th>\n",
       "    </tr>\n",
       "  </thead>\n",
       "  <tbody>\n",
       "    <tr>\n",
       "      <th>0</th>\n",
       "      <td>1</td>\n",
       "      <td>2025-01-01 00:18:38</td>\n",
       "      <td>2025-01-01 00:26:59</td>\n",
       "      <td>1.0</td>\n",
       "      <td>1.60</td>\n",
       "      <td>1.0</td>\n",
       "      <td>N</td>\n",
       "      <td>229</td>\n",
       "      <td>237</td>\n",
       "      <td>1</td>\n",
       "      <td>10.0</td>\n",
       "      <td>3.5</td>\n",
       "      <td>0.5</td>\n",
       "      <td>3.00</td>\n",
       "      <td>0.0</td>\n",
       "      <td>1.0</td>\n",
       "      <td>18.00</td>\n",
       "      <td>2.5</td>\n",
       "      <td>0.0</td>\n",
       "      <td>0.0</td>\n",
       "    </tr>\n",
       "    <tr>\n",
       "      <th>1</th>\n",
       "      <td>1</td>\n",
       "      <td>2025-01-01 00:32:40</td>\n",
       "      <td>2025-01-01 00:35:13</td>\n",
       "      <td>1.0</td>\n",
       "      <td>0.50</td>\n",
       "      <td>1.0</td>\n",
       "      <td>N</td>\n",
       "      <td>236</td>\n",
       "      <td>237</td>\n",
       "      <td>1</td>\n",
       "      <td>5.1</td>\n",
       "      <td>3.5</td>\n",
       "      <td>0.5</td>\n",
       "      <td>2.02</td>\n",
       "      <td>0.0</td>\n",
       "      <td>1.0</td>\n",
       "      <td>12.12</td>\n",
       "      <td>2.5</td>\n",
       "      <td>0.0</td>\n",
       "      <td>0.0</td>\n",
       "    </tr>\n",
       "    <tr>\n",
       "      <th>2</th>\n",
       "      <td>1</td>\n",
       "      <td>2025-01-01 00:44:04</td>\n",
       "      <td>2025-01-01 00:46:01</td>\n",
       "      <td>1.0</td>\n",
       "      <td>0.60</td>\n",
       "      <td>1.0</td>\n",
       "      <td>N</td>\n",
       "      <td>141</td>\n",
       "      <td>141</td>\n",
       "      <td>1</td>\n",
       "      <td>5.1</td>\n",
       "      <td>3.5</td>\n",
       "      <td>0.5</td>\n",
       "      <td>2.00</td>\n",
       "      <td>0.0</td>\n",
       "      <td>1.0</td>\n",
       "      <td>12.10</td>\n",
       "      <td>2.5</td>\n",
       "      <td>0.0</td>\n",
       "      <td>0.0</td>\n",
       "    </tr>\n",
       "    <tr>\n",
       "      <th>3</th>\n",
       "      <td>2</td>\n",
       "      <td>2025-01-01 00:14:27</td>\n",
       "      <td>2025-01-01 00:20:01</td>\n",
       "      <td>3.0</td>\n",
       "      <td>0.52</td>\n",
       "      <td>1.0</td>\n",
       "      <td>N</td>\n",
       "      <td>244</td>\n",
       "      <td>244</td>\n",
       "      <td>2</td>\n",
       "      <td>7.2</td>\n",
       "      <td>1.0</td>\n",
       "      <td>0.5</td>\n",
       "      <td>0.00</td>\n",
       "      <td>0.0</td>\n",
       "      <td>1.0</td>\n",
       "      <td>9.70</td>\n",
       "      <td>0.0</td>\n",
       "      <td>0.0</td>\n",
       "      <td>0.0</td>\n",
       "    </tr>\n",
       "    <tr>\n",
       "      <th>4</th>\n",
       "      <td>2</td>\n",
       "      <td>2025-01-01 00:21:34</td>\n",
       "      <td>2025-01-01 00:25:06</td>\n",
       "      <td>3.0</td>\n",
       "      <td>0.66</td>\n",
       "      <td>1.0</td>\n",
       "      <td>N</td>\n",
       "      <td>244</td>\n",
       "      <td>116</td>\n",
       "      <td>2</td>\n",
       "      <td>5.8</td>\n",
       "      <td>1.0</td>\n",
       "      <td>0.5</td>\n",
       "      <td>0.00</td>\n",
       "      <td>0.0</td>\n",
       "      <td>1.0</td>\n",
       "      <td>8.30</td>\n",
       "      <td>0.0</td>\n",
       "      <td>0.0</td>\n",
       "      <td>0.0</td>\n",
       "    </tr>\n",
       "  </tbody>\n",
       "</table>\n",
       "</div>"
      ],
      "text/plain": [
       "   vendor_id tpep_pickup_datetime tpep_dropoff_datetime  passenger_count  \\\n",
       "0          1  2025-01-01 00:18:38   2025-01-01 00:26:59              1.0   \n",
       "1          1  2025-01-01 00:32:40   2025-01-01 00:35:13              1.0   \n",
       "2          1  2025-01-01 00:44:04   2025-01-01 00:46:01              1.0   \n",
       "3          2  2025-01-01 00:14:27   2025-01-01 00:20:01              3.0   \n",
       "4          2  2025-01-01 00:21:34   2025-01-01 00:25:06              3.0   \n",
       "\n",
       "   trip_distance  ratecode_id store_and_fwd_flag  pu_location_id  \\\n",
       "0           1.60          1.0                  N             229   \n",
       "1           0.50          1.0                  N             236   \n",
       "2           0.60          1.0                  N             141   \n",
       "3           0.52          1.0                  N             244   \n",
       "4           0.66          1.0                  N             244   \n",
       "\n",
       "   do_location_id  payment_type  fare_amount  extra  mta_tax  tip_amount  \\\n",
       "0             237             1         10.0    3.5      0.5        3.00   \n",
       "1             237             1          5.1    3.5      0.5        2.02   \n",
       "2             141             1          5.1    3.5      0.5        2.00   \n",
       "3             244             2          7.2    1.0      0.5        0.00   \n",
       "4             116             2          5.8    1.0      0.5        0.00   \n",
       "\n",
       "   tolls_amount  improvement_surcharge  total_amount  congestion_surcharge  \\\n",
       "0           0.0                    1.0         18.00                   2.5   \n",
       "1           0.0                    1.0         12.12                   2.5   \n",
       "2           0.0                    1.0         12.10                   2.5   \n",
       "3           0.0                    1.0          9.70                   0.0   \n",
       "4           0.0                    1.0          8.30                   0.0   \n",
       "\n",
       "   airport_fee  cbd_congestion_fee  \n",
       "0          0.0                 0.0  \n",
       "1          0.0                 0.0  \n",
       "2          0.0                 0.0  \n",
       "3          0.0                 0.0  \n",
       "4          0.0                 0.0  "
      ]
     },
     "execution_count": 90,
     "metadata": {},
     "output_type": "execute_result"
    }
   ],
   "source": [
    "resultdf.head()"
   ]
  },
  {
   "cell_type": "code",
   "execution_count": null,
   "id": "481ecd3e-2f4f-40e0-a30f-0648d92f26c7",
   "metadata": {},
   "outputs": [],
   "source": []
  }
 ],
 "metadata": {
  "kernelspec": {
   "display_name": "Python 3 (ipykernel)",
   "language": "python",
   "name": "python3"
  },
  "language_info": {
   "codemirror_mode": {
    "name": "ipython",
    "version": 3
   },
   "file_extension": ".py",
   "mimetype": "text/x-python",
   "name": "python",
   "nbconvert_exporter": "python",
   "pygments_lexer": "ipython3",
   "version": "3.11.6"
  }
 },
 "nbformat": 4,
 "nbformat_minor": 5
}
