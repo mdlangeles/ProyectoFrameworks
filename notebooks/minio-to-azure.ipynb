{
 "cells": [
  {
   "cell_type": "code",
   "execution_count": 11,
   "id": "6bbe3529-c0e8-4527-8519-011f407b6db8",
   "metadata": {},
   "outputs": [
    {
     "name": "stdout",
     "output_type": "stream",
     "text": [
      "✓ Encontrado en MinIO: s3://warehouse/yellow_trip_20250910112135/yellow_trip_data/1757546495.2376165.503b80e90a.parquet (70411.2 KiB)\n"
     ]
    }
   ],
   "source": [
    "import os, posixpath\n",
    "import boto3\n",
    "from botocore.config import Config\n",
    "from botocore.exceptions import ClientError\n",
    "from azure.storage.blob import BlobServiceClient\n",
    "import dlt\n",
    "\n",
    "PROFILE   = \"s3_to_adls\"  # el nombre que usaste en secrets.toml\n",
    "\n",
    "src_cfg   = dlt.secrets[f\"{PROFILE}.sources.filesystem\"]\n",
    "src_creds = dlt.secrets[f\"{PROFILE}.sources.filesystem.credentials\"]\n",
    "\n",
    "# --- MinIO (ya montado por compose) ---\n",
    "# Arriba se definen variables para llamar mas sencillo a Credenciales o Configuraciones, asi guiarnos con secrets.\n",
    "MINIO_ENDPOINT   = src_creds[\"endpoint_url\"]\n",
    "MINIO_ACCESS_KEY = src_creds[\"aws_access_key_id\"]\n",
    "MINIO_SECRET_KEY = src_creds[\"aws_secret_access_key\"]\n",
    "MINIO_BUCKET     = src_cfg[\"bucket_url\"].replace(\"s3://\", \"\").split(\"/\", 1)[0]\n",
    "\n",
    "SOURCE_KEY = \"yellow_trip_20250910112135/yellow_trip_data/1757546495.2376165.503b80e90a.parquet\"\n",
    "\n",
    "s3 = boto3.client(\n",
    "    \"s3\",\n",
    "    endpoint_url=MINIO_ENDPOINT,\n",
    "    aws_access_key_id=MINIO_ACCESS_KEY,\n",
    "    aws_secret_access_key=MINIO_SECRET_KEY,\n",
    "    config=Config(signature_version=\"s3v4\"),\n",
    "    region_name=os.getenv(\"AWS_REGION\",\"us-east-1\"),\n",
    ")\n",
    "\n",
    "# Verifica que existe en MinIO, esto para que así nos acordemos de ejecutar el primer notebook!!!\n",
    "try:\n",
    "    head = s3.head_object(Bucket=MINIO_BUCKET, Key=SOURCE_KEY)\n",
    "    size = head.get(\"ContentLength\", 0)\n",
    "    print(f\"✓ Encontrado en MinIO: s3://{MINIO_BUCKET}/{SOURCE_KEY} ({size/1024:.1f} KiB)\")\n",
    "except ClientError as e:\n",
    "    raise RuntimeError(f\"No se encontró el objeto en MinIO: s3://{MINIO_BUCKET}/{SOURCE_KEY}\") from e"
   ]
  },
  {
   "cell_type": "code",
   "execution_count": 4,
   "id": "8fffca3f-a013-4a66-a33a-09228606db6d",
   "metadata": {},
   "outputs": [
    {
     "name": "stdout",
     "output_type": "stream",
     "text": [
      "Cliente Azure desde secrets.toml listo ✅\n"
     ]
    }
   ],
   "source": [
    "import dlt\n",
    "\n",
    "# Asi usar las credenciales desde secrets.toml\n",
    "creds = dlt.secrets[\"s3_to_adls.destination.filesystem.credentials\"]\n",
    "account_name = creds[\"azure_storage_account_name\"]\n",
    "account_key  = creds[\"azure_storage_account_key\"]\n",
    "\n",
    "from azure.storage.blob import BlobServiceClient\n",
    "blob_service = BlobServiceClient(\n",
    "    account_url=f\"https://{account_name}.blob.core.windows.net\",\n",
    "    credential=account_key\n",
    ")\n",
    "\n",
    "# Info del contenedor\n",
    "dest_info = dlt.secrets[\"s3_to_adls.destination.filesystem\"]\n",
    "container_name = dest_info[\"bucket_url\"].split(\"@\")[0].replace(\"abfss://\",\"\")\n",
    "\n",
    "container = blob_service.get_container_client(container_name)\n",
    "try:\n",
    "    container.create_container()\n",
    "except Exception:\n",
    "    pass\n",
    "\n",
    "print(\"Cliente Azure desde secrets.toml listo ✅\")"
   ]
  },
  {
   "cell_type": "code",
   "execution_count": 8,
   "id": "5be84ebf-1090-49ab-905e-8b3419be5979",
   "metadata": {},
   "outputs": [
    {
     "name": "stdout",
     "output_type": "stream",
     "text": [
      "✅ Copiado a Azure (via secrets): clase-4-dlt/GRUPO_1/yellow_trip_20250910112135/yellow_trip_data/1757546495.2376165.503b80e90a.parquet\n"
     ]
    }
   ],
   "source": [
    "SOURCE_KEY = \"yellow_trip_20250910112135/yellow_trip_data/1757546495.2376165.503b80e90a.parquet\"\n",
    "dest_key   = f\"GRUPO_1/{SOURCE_KEY}\"\n",
    "\n",
    "obj = s3.get_object(Bucket=MINIO_BUCKET, Key=SOURCE_KEY)\n",
    "container.upload_blob(name=dest_key, data=obj[\"Body\"], overwrite=True)\n",
    "\n",
    "print(f\"✅ Copiado a Azure (via secrets): {container_name}/{dest_key}\")\n"
   ]
  },
  {
   "cell_type": "code",
   "execution_count": null,
   "id": "7873bc2d-6f09-417c-8202-f03a6d969889",
   "metadata": {},
   "outputs": [],
   "source": []
  }
 ],
 "metadata": {
  "kernelspec": {
   "display_name": "Python 3 (ipykernel)",
   "language": "python",
   "name": "python3"
  },
  "language_info": {
   "codemirror_mode": {
    "name": "ipython",
    "version": 3
   },
   "file_extension": ".py",
   "mimetype": "text/x-python",
   "name": "python",
   "nbconvert_exporter": "python",
   "pygments_lexer": "ipython3",
   "version": "3.11.6"
  }
 },
 "nbformat": 4,
 "nbformat_minor": 5
}
